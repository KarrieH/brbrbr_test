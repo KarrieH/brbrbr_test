{
  "nbformat": 4,
  "nbformat_minor": 0,
  "metadata": {
    "colab": {
      "provenance": []
    },
    "kernelspec": {
      "name": "python3",
      "display_name": "Python 3"
    },
    "language_info": {
      "name": "python"
    }
  },
  "cells": [
    {
      "cell_type": "markdown",
      "source": [
        "## **1 кейс**\n",
        "\n",
        "**Система автопроверки**"
      ],
      "metadata": {
        "id": "XUqCUBW5fUST"
      }
    },
    {
      "cell_type": "markdown",
      "source": [
        "**Важно**\n",
        "\n",
        "Перед началом решения выполните следующую ячейку, чтобы загрузить два файла - эталонный код и код пользователя."
      ],
      "metadata": {
        "id": "OcK9kF9mfZIt"
      }
    },
    {
      "cell_type": "code",
      "execution_count": 1,
      "metadata": {
        "id": "KtNBw8nOfPsB",
        "colab": {
          "base_uri": "https://localhost:8080/"
        },
        "outputId": "84635625-cd70-40c2-d412-d867e8f86aa3"
      },
      "outputs": [
        {
          "output_type": "stream",
          "name": "stdout",
          "text": [
            "--2025-01-13 18:06:12--  https://gist.github.com/Vs8th/aafed81d81678c807a3ad3dbf93588b2/raw/user.py\n",
            "Resolving gist.github.com (gist.github.com)... 140.82.114.4\n",
            "Connecting to gist.github.com (gist.github.com)|140.82.114.4|:443... connected.\n",
            "HTTP request sent, awaiting response... 301 Moved Permanently\n",
            "Location: https://gist.githubusercontent.com/Vs8th/aafed81d81678c807a3ad3dbf93588b2/raw/user.py [following]\n",
            "--2025-01-13 18:06:12--  https://gist.githubusercontent.com/Vs8th/aafed81d81678c807a3ad3dbf93588b2/raw/user.py\n",
            "Resolving gist.githubusercontent.com (gist.githubusercontent.com)... 185.199.109.133, 185.199.110.133, 185.199.111.133, ...\n",
            "Connecting to gist.githubusercontent.com (gist.githubusercontent.com)|185.199.109.133|:443... connected.\n",
            "HTTP request sent, awaiting response... 200 OK\n",
            "Length: 106 [text/plain]\n",
            "Saving to: ‘user.py’\n",
            "\n",
            "\ruser.py               0%[                    ]       0  --.-KB/s               \ruser.py             100%[===================>]     106  --.-KB/s    in 0s      \n",
            "\n",
            "2025-01-13 18:06:13 (1.79 MB/s) - ‘user.py’ saved [106/106]\n",
            "\n",
            "--2025-01-13 18:06:13--  https://gist.github.com/Vs8th/95f7897019a4213c76e5b65234d31e30/raw/etalon.py\n",
            "Resolving gist.github.com (gist.github.com)... 140.82.114.4\n",
            "Connecting to gist.github.com (gist.github.com)|140.82.114.4|:443... connected.\n",
            "HTTP request sent, awaiting response... 301 Moved Permanently\n",
            "Location: https://gist.githubusercontent.com/Vs8th/95f7897019a4213c76e5b65234d31e30/raw/etalon.py [following]\n",
            "--2025-01-13 18:06:13--  https://gist.githubusercontent.com/Vs8th/95f7897019a4213c76e5b65234d31e30/raw/etalon.py\n",
            "Resolving gist.githubusercontent.com (gist.githubusercontent.com)... 185.199.109.133, 185.199.110.133, 185.199.111.133, ...\n",
            "Connecting to gist.githubusercontent.com (gist.githubusercontent.com)|185.199.109.133|:443... connected.\n",
            "HTTP request sent, awaiting response... 200 OK\n",
            "Length: 31 [text/plain]\n",
            "Saving to: ‘etalon.py’\n",
            "\n",
            "etalon.py           100%[===================>]      31  --.-KB/s    in 0s      \n",
            "\n",
            "2025-01-13 18:06:13 (771 KB/s) - ‘etalon.py’ saved [31/31]\n",
            "\n",
            "--2025-01-13 18:06:13--  https://gist.github.com/Vs8th/59f797dfbd33f9a4be1e5ed43bb42f4d/raw/res_cor.txt\n",
            "Resolving gist.github.com (gist.github.com)... 140.82.114.4\n",
            "Connecting to gist.github.com (gist.github.com)|140.82.114.4|:443... connected.\n",
            "HTTP request sent, awaiting response... 301 Moved Permanently\n",
            "Location: https://gist.githubusercontent.com/Vs8th/59f797dfbd33f9a4be1e5ed43bb42f4d/raw/res_cor.txt [following]\n",
            "--2025-01-13 18:06:13--  https://gist.githubusercontent.com/Vs8th/59f797dfbd33f9a4be1e5ed43bb42f4d/raw/res_cor.txt\n",
            "Resolving gist.githubusercontent.com (gist.githubusercontent.com)... 185.199.109.133, 185.199.110.133, 185.199.111.133, ...\n",
            "Connecting to gist.githubusercontent.com (gist.githubusercontent.com)|185.199.109.133|:443... connected.\n",
            "HTTP request sent, awaiting response... 200 OK\n",
            "Length: 355 [text/plain]\n",
            "Saving to: ‘res_cor.txt’\n",
            "\n",
            "res_cor.txt         100%[===================>]     355  --.-KB/s    in 0s      \n",
            "\n",
            "2025-01-13 18:06:13 (18.1 MB/s) - ‘res_cor.txt’ saved [355/355]\n",
            "\n"
          ]
        }
      ],
      "source": [
        "!wget https://gist.github.com/Vs8th/aafed81d81678c807a3ad3dbf93588b2/raw/user.py\n",
        "\n",
        "!wget https://gist.github.com/Vs8th/95f7897019a4213c76e5b65234d31e30/raw/etalon.py\n",
        "\n",
        "!wget https://gist.github.com/Vs8th/59f797dfbd33f9a4be1e5ed43bb42f4d/raw/res_cor.txt"
      ]
    },
    {
      "cell_type": "markdown",
      "source": [
        "Давайте сразу посмотрим с каким кодом мы имеем дело."
      ],
      "metadata": {
        "id": "JIwIK2E5fcyA"
      }
    },
    {
      "cell_type": "code",
      "source": [
        "with open('etalon.py', 'r') as f:\n",
        "    lines = f.readlines()\n",
        "\n",
        "lines"
      ],
      "metadata": {
        "id": "6f84pObFfbGE",
        "colab": {
          "base_uri": "https://localhost:8080/"
        },
        "outputId": "056964ac-8135-4efb-ffda-e8e97b0af7ac"
      },
      "execution_count": 2,
      "outputs": [
        {
          "output_type": "execute_result",
          "data": {
            "text/plain": [
              "['def add(a, b):\\n', '    return a + b']"
            ]
          },
          "metadata": {},
          "execution_count": 2
        }
      ]
    },
    {
      "cell_type": "code",
      "source": [
        "with open('user.py', 'r') as f:\n",
        "    lines2 = f.readlines()\n",
        "\n",
        "lines2"
      ],
      "metadata": {
        "colab": {
          "base_uri": "https://localhost:8080/"
        },
        "id": "zmNFemr6OkB7",
        "outputId": "0ae59813-0137-4022-9040-42e5bf5e419e"
      },
      "execution_count": 3,
      "outputs": [
        {
          "output_type": "execute_result",
          "data": {
            "text/plain": [
              "['def add_numbers(a, b):\\n',\n",
              " '    return a - b  # Ошибка: нужно сложить, а не вычесть']"
            ]
          },
          "metadata": {},
          "execution_count": 3
        }
      ]
    },
    {
      "cell_type": "markdown",
      "source": [
        "### **Решения**"
      ],
      "metadata": {
        "id": "CxmnD3GvffQ4"
      }
    },
    {
      "cell_type": "markdown",
      "source": [
        "#### **Задача 1**\n",
        "\n",
        "Задача не из легких, поэтому начнем по шагам. Для начала напишите функцию `run_tests`, которая прочтет эталонный код и код пользователя из `.py` файлов, выполнит их и сохранит результаты в файл `output.txt`."
      ],
      "metadata": {
        "id": "5bdLXu2ksLB7"
      }
    },
    {
      "cell_type": "markdown",
      "source": [
        "**Решение**\n",
        "\n",
        "Напишите свое решение ниже"
      ],
      "metadata": {
        "id": "qUL4LtIUnJge"
      }
    },
    {
      "cell_type": "code",
      "source": [
        "import importlib\n",
        "\n",
        "def run_tests(standard_code, user_code, test_cases, output_file):\n",
        "\n",
        "  # получаем названия функций в каждом файле\n",
        "  etalon_function_name = dir(standard_code)[-1]\n",
        "  user_function_name = dir(user_code)[-1]\n",
        "\n",
        "  # получаем функции из каждого файла\n",
        "  function_standart = getattr(standard_code, etalon_function_name)\n",
        "  function_user = getattr(user_code, user_function_name)\n",
        "\n",
        "  # проходим по тестовым случаям\n",
        "  s = []\n",
        "  for test in test_cases:\n",
        "    a, b = test\n",
        "\n",
        "  # обработка исключений: если код возвращает ошибку - записываем ее в файл, работу автопроверки остановливаем\n",
        "    try:\n",
        "      result_user = function_user(a, b)\n",
        "    except Exception as err:\n",
        "      s.append(f'Ошибка при выполнении кода пользователя: {err}')\n",
        "      break\n",
        "\n",
        "    result_standart = function_standart(a, b)\n",
        "\n",
        "    # если тест пройден - записываем в файл \"Тест пройден\"\n",
        "    if result_standart == result_user:\n",
        "      s.append('Тест пройден\\n')\n",
        "    # если тест не пройден - записываем в файл данные\n",
        "    else:\n",
        "      s.append(f'''Тест не пройден\\nОжидаемый результат: {result_standart}\\nРезультат пользователя: {result_user}\\n''')\n",
        "\n",
        "  with open(output_file, 'w') as f:\n",
        "    f.write(''.join(s))\n",
        "\n",
        "\n",
        "\n",
        "# Чтение кодов из файлов\n",
        "standard_module = importlib.import_module('etalon')\n",
        "user_module = importlib.import_module('user')\n",
        "importlib.reload(user_module)\n",
        "\n",
        "test_cases = [(1, 2), (3, 4), (5, 6)]\n",
        "output_file = 'output.txt'\n",
        "run_tests(standard_module, user_module, test_cases, output_file)\n"
      ],
      "metadata": {
        "id": "ymmsa-OaYfKH"
      },
      "execution_count": 14,
      "outputs": []
    },
    {
      "cell_type": "code",
      "source": [],
      "metadata": {
        "id": "-f8cJmztOoIN"
      },
      "execution_count": null,
      "outputs": []
    },
    {
      "cell_type": "markdown",
      "source": [
        "✏️ ✏️ ✏️\n",
        "\n",
        "**Проверка**\n",
        "\n",
        "Чтобы проверить свое решение, запустите код в следующих ячейках"
      ],
      "metadata": {
        "id": "54Tvpn9OkDwV"
      }
    },
    {
      "cell_type": "code",
      "source": [
        "with open('output.txt', 'r') as file1:\n",
        "    res1 = file1.read()\n",
        "\n",
        "with open('res_cor.txt', 'r') as file2:\n",
        "    res2 = file2.read()\n",
        "\n",
        "try:\n",
        "    assert res1 == res2\n",
        "except AssertionError:\n",
        "    print('Ответы не совпадают')\n",
        "else:\n",
        "    print('Поздравляем, Вы справились!')"
      ],
      "metadata": {
        "id": "LkqzVw9skKEC",
        "colab": {
          "base_uri": "https://localhost:8080/"
        },
        "outputId": "c8389e0e-a68e-4b9f-efe2-3259c47af280"
      },
      "execution_count": 31,
      "outputs": [
        {
          "output_type": "stream",
          "name": "stdout",
          "text": [
            "Поздравляем, Вы справились!\n"
          ]
        }
      ]
    },
    {
      "cell_type": "markdown",
      "source": [
        "#### **Задача 2**\n",
        "\n",
        "Теперь давайте двигаться дальше. Нужно добавить проверку на вредоносный код. Напишите отдельную функцию - `check_for_malicious_code`, которую мы будем вызывать перед проверкой кода."
      ],
      "metadata": {
        "id": "QLNMvvhXoIdV"
      }
    },
    {
      "cell_type": "markdown",
      "source": [
        "Перед написанием кода, выполните следующую ячейку, в ней скачивается новый код пользователя, который проверит работу функции `check_for_malicious_code`."
      ],
      "metadata": {
        "id": "YZ9QLF2YAhUG"
      }
    },
    {
      "cell_type": "code",
      "source": [
        "!wget https://gist.github.com/Vs8th/9f6a2c73c755cfcc088c7835ec4fb2c0/raw/user_malicious.py"
      ],
      "metadata": {
        "id": "KTn16q3wcTTc",
        "colab": {
          "base_uri": "https://localhost:8080/"
        },
        "outputId": "c48831f7-6c0e-4f39-df08-e9ed07b8878d"
      },
      "execution_count": 4,
      "outputs": [
        {
          "output_type": "stream",
          "name": "stdout",
          "text": [
            "--2025-01-13 18:06:36--  https://gist.github.com/Vs8th/9f6a2c73c755cfcc088c7835ec4fb2c0/raw/user_malicious.py\n",
            "Resolving gist.github.com (gist.github.com)... 140.82.114.4\n",
            "Connecting to gist.github.com (gist.github.com)|140.82.114.4|:443... connected.\n",
            "HTTP request sent, awaiting response... 301 Moved Permanently\n",
            "Location: https://gist.githubusercontent.com/Vs8th/9f6a2c73c755cfcc088c7835ec4fb2c0/raw/user_malicious.py [following]\n",
            "--2025-01-13 18:06:36--  https://gist.githubusercontent.com/Vs8th/9f6a2c73c755cfcc088c7835ec4fb2c0/raw/user_malicious.py\n",
            "Resolving gist.githubusercontent.com (gist.githubusercontent.com)... 185.199.109.133, 185.199.110.133, 185.199.111.133, ...\n",
            "Connecting to gist.githubusercontent.com (gist.githubusercontent.com)|185.199.109.133|:443... connected.\n",
            "HTTP request sent, awaiting response... 200 OK\n",
            "Length: 117 [text/plain]\n",
            "Saving to: ‘user_malicious.py’\n",
            "\n",
            "user_malicious.py   100%[===================>]     117  --.-KB/s    in 0s      \n",
            "\n",
            "2025-01-13 18:06:36 (2.32 MB/s) - ‘user_malicious.py’ saved [117/117]\n",
            "\n"
          ]
        }
      ]
    },
    {
      "cell_type": "markdown",
      "source": [
        "**Решение**\n",
        "\n",
        "Напишите свое решение ниже"
      ],
      "metadata": {
        "id": "LThhpSINoMHN"
      }
    },
    {
      "cell_type": "code",
      "source": [
        "import importlib\n",
        "import inspect\n",
        "import ast\n",
        "\n",
        "FORBIDDEN_NAMES = ['eval', 'exec']\n",
        "\n",
        "def check_for_malicious_code(code, output_file):\n",
        "  # создаем список для хранения всех сообщений об ошибках\n",
        "  error_arr = ''\n",
        "\n",
        "  # проверка на наличие синтаксичских и других ошибок\n",
        "  try:\n",
        "    tree = ast.parse(code)\n",
        "  except SyntaxError as err:\n",
        "    error_arr = f'Код содержит синтаксическую ошибку: {type(err).__name__}: {err}'\n",
        "    return error_arr\n",
        "\n",
        "  except Exception as err:\n",
        "    error_arr = f'Код содержит вредоносные элементы: {err}'\n",
        "    return error_arr\n",
        "\n",
        "  # обходим каждый узел в дереве для выявления конкретных ошибок из списка запрещенных функций FORBIDDEN_NAMES\n",
        "  for node in ast.walk(tree):\n",
        "\n",
        "    # проверяем, является ли узел функцией\n",
        "    if isinstance(node, ast.Call) and isinstance(node.func, ast.Name):\n",
        "\n",
        "      if node.func.id in FORBIDDEN_NAMES:\n",
        "\n",
        "        if node.func.id == 'exec':\n",
        "          error_arr = f'Код содержит запрещенный атрибут: {node.func.id}'\n",
        "          return error_arr\n",
        "\n",
        "\n",
        "        # Если в коде вызывается eval без аргументов\n",
        "        if node.func.id == 'eval' and not node.args:\n",
        "          error_arr = 'Код содержит вызов eval()'\n",
        "          return error_arr\n",
        "\n",
        "  # пустая строка, если ошибок нет\n",
        "  return error_arr\n",
        "\n",
        "def run_tests(standard_code, user_code, test_cases, output_file):\n",
        "  # получаем названия функций в каждом файле\n",
        "  etalon_function_name = dir(standard_code)[-1]\n",
        "  user_function_name = dir(user_code)[-1]\n",
        "\n",
        "  # получаем функции из каждого файла\n",
        "  function_standart = getattr(standard_code, etalon_function_name)\n",
        "  function_user = getattr(user_code, user_function_name)\n",
        "\n",
        "  # проходим по тестовым случаям\n",
        "  s = []\n",
        "  for test in test_cases:\n",
        "    a, b = test\n",
        "\n",
        "  # обработка исключений: если код возвращает ошибку - записываем ее в файл, работу автопроверки остановливаем\n",
        "    try:\n",
        "      result_user = function_user(a, b)\n",
        "    except Exception as err:\n",
        "      s.append(f'Ошибка при выполнении кода пользователя: {err}')\n",
        "      break\n",
        "\n",
        "    result_standart = function_standart(a, b)\n",
        "\n",
        "    # если тест пройден - записываем в файл \"Тест пройден\"\n",
        "    if result_standart == result_user:\n",
        "      s.append('Тест пройден\\n')\n",
        "    # если тест не пройден - записываем в файл данные\n",
        "    else:\n",
        "      s.append(f'''Тест не пройден\\nОжидаемый результат: {result_standart}\\nРезультат пользователя: {result_user}\\n''')\n",
        "\n",
        "  with open(output_file, 'w') as f:\n",
        "    f.write(''.join(s))\n",
        "\n",
        "\n",
        "# Чтение кодов из файлов\n",
        "standard_module = importlib.import_module('etalon')\n",
        "user_module = importlib.import_module('user_malicious')\n",
        "#importlib.reload(user_module)\n",
        "\n",
        "test_cases = [(1, 2), (3, 4), (5, 6)]\n",
        "output_file = 'output2.txt'\n",
        "\n",
        "# Проверка на вредоносный код\n",
        "malicious_code_message = check_for_malicious_code(inspect.getsource(user_module), output_file)\n",
        "if malicious_code_message:\n",
        "    with open(output_file, 'w') as f:\n",
        "        f.write(\"Ошибка при проверке модуля user_malicious:\\n\")\n",
        "        f.write(malicious_code_message)\n",
        "else:\n",
        "    run_tests(standard_module, user_module, test_cases, output_file)"
      ],
      "metadata": {
        "id": "9s8JBMlboJuf"
      },
      "execution_count": 33,
      "outputs": []
    },
    {
      "cell_type": "code",
      "source": [
        "with open('output2.txt', 'r') as f:\n",
        "  print(f.readlines())"
      ],
      "metadata": {
        "colab": {
          "base_uri": "https://localhost:8080/"
        },
        "id": "W0ysu_q9o7Q7",
        "outputId": "50d0e9aa-c26d-4d6a-9a5e-06e3f48001b0"
      },
      "execution_count": 38,
      "outputs": [
        {
          "output_type": "stream",
          "name": "stdout",
          "text": [
            "['Ошибка при проверке модуля user_malicious:\\n', 'Код содержит вызов eval()']\n"
          ]
        }
      ]
    },
    {
      "cell_type": "code",
      "source": [],
      "metadata": {
        "id": "VM58WCOXo7UR"
      },
      "execution_count": null,
      "outputs": []
    },
    {
      "cell_type": "markdown",
      "source": [
        "✏️ ✏️ ✏️\n",
        "\n",
        "**Проверка**\n",
        "\n",
        "Чтобы проверить свое решение, запустите код в следующих ячейках"
      ],
      "metadata": {
        "id": "GN_PNZICsxRD"
      }
    },
    {
      "cell_type": "code",
      "source": [
        "# Здесь будет скачиваться файл с эталонным ответом\n",
        "\n",
        "!wget https://gist.github.com/Vs8th/5197125c5ef1e1b34b7d73adccdaf4bb/raw/cor_output_2.txt"
      ],
      "metadata": {
        "id": "tys9eJRSqcEW",
        "colab": {
          "base_uri": "https://localhost:8080/"
        },
        "outputId": "a9c51f24-c999-45fc-a714-d874eb091189"
      },
      "execution_count": 34,
      "outputs": [
        {
          "output_type": "stream",
          "name": "stdout",
          "text": [
            "--2025-01-07 12:03:42--  https://gist.github.com/Vs8th/5197125c5ef1e1b34b7d73adccdaf4bb/raw/cor_output_2.txt\n",
            "Resolving gist.github.com (gist.github.com)... 140.82.112.3\n",
            "Connecting to gist.github.com (gist.github.com)|140.82.112.3|:443... connected.\n",
            "HTTP request sent, awaiting response... 301 Moved Permanently\n",
            "Location: https://gist.githubusercontent.com/Vs8th/5197125c5ef1e1b34b7d73adccdaf4bb/raw/cor_output_2.txt [following]\n",
            "--2025-01-07 12:03:42--  https://gist.githubusercontent.com/Vs8th/5197125c5ef1e1b34b7d73adccdaf4bb/raw/cor_output_2.txt\n",
            "Resolving gist.githubusercontent.com (gist.githubusercontent.com)... 185.199.110.133, 185.199.111.133, 185.199.108.133, ...\n",
            "Connecting to gist.githubusercontent.com (gist.githubusercontent.com)|185.199.110.133|:443... connected.\n",
            "HTTP request sent, awaiting response... 200 OK\n",
            "Length: 107 [text/plain]\n",
            "Saving to: ‘cor_output_2.txt’\n",
            "\n",
            "cor_output_2.txt    100%[===================>]     107  --.-KB/s    in 0s      \n",
            "\n",
            "2025-01-07 12:03:43 (5.25 MB/s) - ‘cor_output_2.txt’ saved [107/107]\n",
            "\n"
          ]
        }
      ]
    },
    {
      "cell_type": "code",
      "source": [
        "with open('output2.txt', 'r') as file1:\n",
        "    res1 = file1.read()\n",
        "\n",
        "with open('cor_output_2.txt', 'r') as file2:\n",
        "    res2 = file2.read()\n",
        "\n",
        "try:\n",
        "    assert res1== res2\n",
        "except AssertionError:\n",
        "    print('Ответы не совпадают')\n",
        "else:\n",
        "    print('Поздравляем, Вы справились!')"
      ],
      "metadata": {
        "colab": {
          "base_uri": "https://localhost:8080/"
        },
        "id": "1GWodeoioj0p",
        "outputId": "86e6fd01-425d-43a0-9482-7a4410a6a4ad"
      },
      "execution_count": 35,
      "outputs": [
        {
          "output_type": "stream",
          "name": "stdout",
          "text": [
            "Поздравляем, Вы справились!\n"
          ]
        }
      ]
    },
    {
      "cell_type": "markdown",
      "source": [
        "#### **Задача 3**\n",
        "\n",
        "Движемся дальше - последнее, что нам нужно проверить - время выполнения. Если время выполнения превышает 5 секунд, уведомите об этом пользователя и остановите выполнение проверки."
      ],
      "metadata": {
        "id": "AwB-HtPLtjyl"
      }
    },
    {
      "cell_type": "markdown",
      "source": [
        "Перед написанием кода, выполните следующую ячейку, в ней скачивается новый код пользователя, который проверит работу проверки на время выполнения."
      ],
      "metadata": {
        "id": "ibykgbg_BEJS"
      }
    },
    {
      "cell_type": "code",
      "source": [
        "!wget https://gist.github.com/Vs8th/4aba49489a8b0843ef85c4a1a93f923d/raw/user_inf.py"
      ],
      "metadata": {
        "id": "8N4EK36Erkic",
        "colab": {
          "base_uri": "https://localhost:8080/"
        },
        "outputId": "cad16666-4a29-4351-a775-0afcc8a67d7f"
      },
      "execution_count": 6,
      "outputs": [
        {
          "output_type": "stream",
          "name": "stdout",
          "text": [
            "--2025-01-10 17:18:49--  https://gist.github.com/Vs8th/4aba49489a8b0843ef85c4a1a93f923d/raw/user_inf.py\n",
            "Resolving gist.github.com (gist.github.com)... 140.82.114.4\n",
            "Connecting to gist.github.com (gist.github.com)|140.82.114.4|:443... connected.\n",
            "HTTP request sent, awaiting response... 301 Moved Permanently\n",
            "Location: https://gist.githubusercontent.com/Vs8th/4aba49489a8b0843ef85c4a1a93f923d/raw/user_inf.py [following]\n",
            "--2025-01-10 17:18:49--  https://gist.githubusercontent.com/Vs8th/4aba49489a8b0843ef85c4a1a93f923d/raw/user_inf.py\n",
            "Resolving gist.githubusercontent.com (gist.githubusercontent.com)... 185.199.111.133, 185.199.109.133, 185.199.108.133, ...\n",
            "Connecting to gist.githubusercontent.com (gist.githubusercontent.com)|185.199.111.133|:443... connected.\n",
            "HTTP request sent, awaiting response... 200 OK\n",
            "Length: 55 [text/plain]\n",
            "Saving to: ‘user_inf.py’\n",
            "\n",
            "user_inf.py         100%[===================>]      55  --.-KB/s    in 0s      \n",
            "\n",
            "2025-01-10 17:18:49 (1.52 MB/s) - ‘user_inf.py’ saved [55/55]\n",
            "\n"
          ]
        }
      ]
    },
    {
      "cell_type": "markdown",
      "source": [
        "**Решение**\n",
        "\n",
        "Напишите свое решение ниже"
      ],
      "metadata": {
        "id": "GOTB--hmt2xw"
      }
    },
    {
      "cell_type": "code",
      "source": [
        "import importlib\n",
        "import inspect\n",
        "import ast\n",
        "\n",
        "import multiprocessing\n",
        "import time\n",
        "\n",
        "\n",
        "\n",
        "FORBIDDEN_NAMES = ['eval', 'exec']\n",
        "\n",
        "def check_for_malicious_code(code, output_file):\n",
        "  # создаем список для хранения всех сообщений об ошибках\n",
        "  error_arr = ''\n",
        "\n",
        "  # проверка на наличие синтаксичских и других ошибок\n",
        "  try:\n",
        "    tree = ast.parse(code)\n",
        "  except SyntaxError as err:\n",
        "    error_arr = f'Код содержит синтаксическую ошибку: {type(err).__name__}: {err}'\n",
        "    return error_arr\n",
        "\n",
        "  except Exception as err:\n",
        "    error_arr = f'Код содержит вредоносные элементы: {err}'\n",
        "    return error_arr\n",
        "\n",
        "  # обходим каждый узел в дереве для выявления конкретных ошибок из списка запрещенных функций FORBIDDEN_NAMES\n",
        "  for node in ast.walk(tree):\n",
        "\n",
        "    # проверяем, является ли узел функцией\n",
        "    if isinstance(node, ast.Call) and isinstance(node.func, ast.Name):\n",
        "\n",
        "      if node.func.id in FORBIDDEN_NAMES:\n",
        "\n",
        "        if node.func.id == 'exec':\n",
        "          error_arr = f'Код содержит запрещенный атрибут: {node.func.id}'\n",
        "          return error_arr\n",
        "\n",
        "\n",
        "        # Если в коде вызывается eval без аргументов\n",
        "        if node.func.id == 'eval' and not node.args:\n",
        "          error_arr = 'Код содержит вызов eval()'\n",
        "          return error_arr\n",
        "\n",
        "  # пустая строка, если ошибок нет\n",
        "  return error_arr\n",
        "\n",
        "def run_tests(standard_code, user_code, test_cases, output_file):\n",
        "  # получаем названия функций в каждом файле\n",
        "  etalon_function_name = dir(standard_code)[-1]\n",
        "  user_function_name = dir(user_code)[-1]\n",
        "\n",
        "  # получаем функции из каждого файла\n",
        "  function_standart = getattr(standard_code, etalon_function_name)\n",
        "  function_user = getattr(user_code, user_function_name)\n",
        "\n",
        "  # проходим по тестовым случаям\n",
        "  s = []\n",
        "  for test in test_cases:\n",
        "    a, b = test\n",
        "\n",
        "    # проверям время выполнения функции\n",
        "    start = time.time()\n",
        "    process = multiprocessing.Process(target=function_user, args=(a, b))\n",
        "    process.start()\n",
        "    process.join(timeout=10)\n",
        "    end = time.time()\n",
        "    timer = end-start\n",
        "\n",
        "    if timer > 5:\n",
        "      print(f'Test case: a = {a}, b = {b}. Timer = {timer}')\n",
        "      s.append('Предупреждение: время выполнения превышает 5 секунд.')\n",
        "      break\n",
        "\n",
        "    # обработка исключений: если код возвращает ошибку - записываем ее в файл, работу автопроверки остановливаем\n",
        "    try:\n",
        "      result_user = function_user(a, b)\n",
        "    except Exception as err:\n",
        "      s.append(f'Ошибка при выполнении кода пользователя: {err}')\n",
        "      break\n",
        "\n",
        "    result_standart = function_standart(a, b)\n",
        "\n",
        "    # если тест пройден - записываем в файл \"Тест пройден\"\n",
        "    if result_standart == result_user:\n",
        "      s.append('Тест пройден\\n')\n",
        "    # если тест не пройден - записываем в файл данные\n",
        "    else:\n",
        "      s.append(f'''Тест не пройден\\nОжидаемый результат: {result_standart}\\nРезультат пользователя: {result_user}\\n''')\n",
        "\n",
        "  with open(output_file, 'w') as f:\n",
        "    f.write(''.join(s))\n",
        "\n",
        "\n",
        "# Чтение кодов из файлов\n",
        "standard_module = importlib.import_module('etalon')\n",
        "user_module = importlib.import_module('user_inf')\n",
        "importlib.reload(user_module)\n",
        "\n",
        "test_cases = [(1, 2), (3, 4), (5, 6)]\n",
        "output_file = 'output3.txt'\n",
        "\n",
        "# Проверка на вредоносный код\n",
        "malicious_code_message = check_for_malicious_code(inspect.getsource(user_module), output_file)\n",
        "if malicious_code_message:\n",
        "    with open(output_file, 'w') as f:\n",
        "        f.write(\"Ошибка при проверке модуля user_malicious:\\n\")\n",
        "        f.write(malicious_code_message)\n",
        "else:\n",
        "    run_tests(standard_module, user_module, test_cases, output_file)"
      ],
      "metadata": {
        "colab": {
          "base_uri": "https://localhost:8080/"
        },
        "id": "VUNcOZeTs75-",
        "outputId": "b953501e-10ce-4f2b-fa41-6a0d7c15f390"
      },
      "execution_count": 25,
      "outputs": [
        {
          "output_type": "stream",
          "name": "stdout",
          "text": [
            "Test case: a = 1, b = 2. Timer = 10.03920865058899\n"
          ]
        }
      ]
    },
    {
      "cell_type": "markdown",
      "source": [
        "# Тестировка"
      ],
      "metadata": {
        "id": "BEFayiNis9Kd"
      }
    },
    {
      "cell_type": "markdown",
      "source": [
        "###1. Тестовые функции, чтобы разобраться в принципе работы параллельных процессов"
      ],
      "metadata": {
        "id": "goYkuQRmGzW2"
      }
    },
    {
      "cell_type": "code",
      "source": [
        "import multiprocessing\n",
        "import time\n",
        "from datetime import datetime\n",
        "\n",
        "def long_running_function(a, b, queue):\n",
        "    start = datetime.now().strftime('%H:%M:%S.%f')[:-3]\n",
        "    print(f'Начало выполнения ДОЧЕРНЕГО процесса: {start}')\n",
        "    res = a + b\n",
        "    #time.sleep(10)  # Функция выполняется 10 секунд\n",
        "    queue.put(res)  # Кладем результат в очередь\n",
        "    end = datetime.now().strftime('%H:%M:%S.%f')[:-3]\n",
        "    print(f\"Завершение выполнения ДОЧЕРНЕГО процесса: {end}\")\n",
        "\n",
        "def run_with_timeout(func, timeout, a, b):\n",
        "    start = datetime.now().strftime('%H:%M:%S.%f')[:-3]\n",
        "    print(f\"Начало выполнения ОСНОВОГО процесса: {start}\")\n",
        "\n",
        "    lst = [1, 2, 3, 4]\n",
        "\n",
        "    # Создаем очередь для получения результата функции func\n",
        "    result_queue = multiprocessing.Queue()\n",
        "\n",
        "    # Создаем дочерний процесс для выполнения функции\n",
        "    process = multiprocessing.Process(target=func, args=(a, b, result_queue))\n",
        "    process.start()\n",
        "\n",
        "    # Ожидаем завершения процесса в течение указанного времени\n",
        "    process.join(timeout)\n",
        "\n",
        "    if process.is_alive():\n",
        "        print(\"Превышено время выполнения функции. Прерывание...\")\n",
        "        process.terminate()  # Прерываем выполнение процесса\n",
        "        process.join()  # Дожидаемся завершения процесса\n",
        "    else:\n",
        "        print(\"Функция завершилась вовремя\")\n",
        "        if not result_queue.empty():\n",
        "            result = result_queue.get()\n",
        "            print(f\"Результат ДОЧЕРНЕГО процесса: {result}\")\n",
        "            lst.append(result)\n",
        "        else:\n",
        "            print(\"Результат отсутствует.\")\n",
        "\n",
        "    end = datetime.now().strftime('%H:%M:%S.%f')[:-3]\n",
        "    print(f\"Завершение выполнения ОСНОВОГО процесса: {end}\")\n",
        "    return lst\n",
        "\n",
        "run_with_timeout(long_running_function, timeout=5, a=2, b=3)\n"
      ],
      "metadata": {
        "colab": {
          "base_uri": "https://localhost:8080/"
        },
        "id": "PGiUisY9zAGn",
        "outputId": "e925eac1-571a-4dc2-c568-c6b0f53824a8"
      },
      "execution_count": 1,
      "outputs": [
        {
          "output_type": "stream",
          "name": "stdout",
          "text": [
            "Начало выполнения ОСНОВОГО процесса: 16:45:03.446\n",
            "Начало выполнения ДОЧЕРНЕГО процесса: 16:45:03.470\n",
            "Завершение выполнения ДОЧЕРНЕГО процесса: 16:45:03.484\n",
            "Функция завершилась вовремя\n",
            "Результат ДОЧЕРНЕГО процесса: 5\n",
            "Завершение выполнения ОСНОВОГО процесса: 16:45:03.508\n"
          ]
        },
        {
          "output_type": "execute_result",
          "data": {
            "text/plain": [
              "[1, 2, 3, 4, 5]"
            ]
          },
          "metadata": {},
          "execution_count": 1
        }
      ]
    },
    {
      "cell_type": "markdown",
      "source": [
        "### 2. Интегрируем параллельные процесы в боевой код, но без обработки ошибок\n"
      ],
      "metadata": {
        "id": "QtJkcy7TG_4s"
      }
    },
    {
      "cell_type": "code",
      "source": [
        "import importlib\n",
        "import inspect\n",
        "import ast\n",
        "\n",
        "import multiprocessing\n",
        "import time\n",
        "from datetime import datetime\n",
        "\n",
        "FORBIDDEN_NAMES = ['eval', 'exec']\n",
        "\n",
        "def check_for_malicious_code(code, output_file):\n",
        "  # создаем список для хранения всех сообщений об ошибках\n",
        "  error_arr = ''\n",
        "\n",
        "  # проверка на наличие синтаксичских и других ошибок\n",
        "  try:\n",
        "    tree = ast.parse(code)\n",
        "  except SyntaxError as err:\n",
        "    error_arr = f'Код содержит синтаксическую ошибку: {type(err).__name__}: {err}'\n",
        "    return error_arr\n",
        "\n",
        "  except Exception as err:\n",
        "    error_arr = f'Код содержит вредоносные элементы: {err}'\n",
        "    return error_arr\n",
        "\n",
        "  # обходим каждый узел в дереве для выявления конкретных ошибок из списка запрещенных функций FORBIDDEN_NAMES\n",
        "  for node in ast.walk(tree):\n",
        "\n",
        "    # проверяем, является ли узел функцией\n",
        "    if isinstance(node, ast.Call) and isinstance(node.func, ast.Name):\n",
        "\n",
        "      if node.func.id in FORBIDDEN_NAMES:\n",
        "\n",
        "        if node.func.id == 'exec':\n",
        "          error_arr = f'Код содержит запрещенный атрибут: {node.func.id}'\n",
        "          return error_arr\n",
        "\n",
        "\n",
        "        # Если в коде вызывается eval без аргументов\n",
        "        if node.func.id == 'eval' and not node.args:\n",
        "          error_arr = 'Код содержит вызов eval()'\n",
        "          return error_arr\n",
        "\n",
        "  # пустая строка, если ошибок нет\n",
        "  return error_arr\n",
        "\n",
        "def run_tests(standard_code, user_code, test_cases, output_file, timeout = 5):\n",
        "\n",
        "  # получаем названия функций в каждом файле\n",
        "  etalon_function_name = dir(standard_code)[-1]\n",
        "  user_function_name = dir(user_code)[-1]\n",
        "  # получаем функции из каждого файла\n",
        "  function_standart = getattr(standard_code, etalon_function_name)\n",
        "  function_user = getattr(user_code, user_function_name)\n",
        "\n",
        "  # создаем вспомогательную функцию, чтобы результат function_standart можно было использовать в параллельном процессе\n",
        "  def helper_function(a, b, queue):\n",
        "    result_user = function_user(a, b)\n",
        "    queue.put(result_user)\n",
        "\n",
        "  # проходим по тестовым случаям\n",
        "  s = []\n",
        "  for test in test_cases:\n",
        "    a, b = test\n",
        "    # выполняем эталонный код\n",
        "    result_standart = function_standart(a, b)\n",
        "\n",
        "    # Создаем очередь для получения результата функции helper_function\n",
        "    result_queue = multiprocessing.Queue()\n",
        "\n",
        "    # Создаем дочерний процесс для выполнения функции\n",
        "    process = multiprocessing.Process(target=helper_function, args=(a, b, result_queue))\n",
        "    process.start()\n",
        "\n",
        "    # Ожидаем завершения процесса в течение указанного времени\n",
        "    process.join(timeout)\n",
        "\n",
        "    if process.is_alive():\n",
        "        print(\"Превышено время выполнения функции. Процесс был прерван. Исправьте Вашу функцию\")\n",
        "        process.terminate()  # Прерываем выполнение процесса\n",
        "        process.join()  # Дожидаемся завершения процесса\n",
        "        s.append('Предупреждение: время выполнения превышает 5 секунд.')\n",
        "        break\n",
        "    else:\n",
        "        if not result_queue.empty():\n",
        "            result = result_queue.get()\n",
        "            # если тест пройден - записываем в файл \"Тест пройден\"\n",
        "            if result_standart == result:\n",
        "              s.append('Тест пройден\\n')\n",
        "            # если тест не пройден - записываем в файл данные\n",
        "            else:\n",
        "              s.append(f'''Тест не пройден\\nОжидаемый результат: {result_standart}\\nРезультат пользователя: {result}\\n''')\n",
        "        else:\n",
        "            print(\"Результат дочернего процесса отсутствует.\")\n",
        "\n",
        "  with open(output_file, 'w') as f:\n",
        "    f.write(''.join(s))\n",
        "\n",
        "  # обработка исключений: если код возвращает ошибку - записываем ее в файл, работу автопроверки остановливаем\n",
        "  #  try:\n",
        "  #   result_user = function_user(a, b)\n",
        "  #  except Exception as err:\n",
        "  #    s.append(f'Ошибка при выполнении кода пользователя: {err}')\n",
        "  #    break\n",
        "\n",
        "\n",
        "\n",
        "\n",
        "# Чтение кодов из файлов\n",
        "standard_module = importlib.import_module('etalon')\n",
        "user_module = importlib.import_module('user_inf')\n",
        "importlib.reload(user_module)\n",
        "\n",
        "test_cases = [(1, 2), (3, 4), (5, 6)]\n",
        "output_file = 'output3.txt'\n",
        "\n",
        "# Проверка на вредоносный код\n",
        "malicious_code_message = check_for_malicious_code(inspect.getsource(user_module), output_file)\n",
        "if malicious_code_message:\n",
        "    with open(output_file, 'w') as f:\n",
        "        f.write(\"Ошибка при проверке модуля user_malicious:\\n\")\n",
        "        f.write(malicious_code_message)\n",
        "else:\n",
        "    run_tests(standard_module, user_module, test_cases, output_file, timeout=5)"
      ],
      "metadata": {
        "colab": {
          "base_uri": "https://localhost:8080/"
        },
        "id": "-gWfDmVLs8r-",
        "outputId": "d436ea83-ef1f-48d4-8623-bafae6490136"
      },
      "execution_count": 13,
      "outputs": [
        {
          "output_type": "stream",
          "name": "stdout",
          "text": [
            "Превышено время выполнения функции. Процесс был прерван. Исправьте Вашу функцию\n"
          ]
        }
      ]
    },
    {
      "cell_type": "markdown",
      "source": [
        "### 3. Пробуем изменить боевую функцию без усложнений, используя time.time(). Этот же код взят как финальное решение!"
      ],
      "metadata": {
        "id": "Hf1ghq04Q5ah"
      }
    },
    {
      "cell_type": "code",
      "source": [
        "import importlib\n",
        "import inspect\n",
        "import ast\n",
        "\n",
        "import multiprocessing\n",
        "import time\n",
        "\n",
        "\n",
        "\n",
        "FORBIDDEN_NAMES = ['eval', 'exec']\n",
        "\n",
        "def check_for_malicious_code(code, output_file):\n",
        "  # создаем список для хранения всех сообщений об ошибках\n",
        "  error_arr = ''\n",
        "\n",
        "  # проверка на наличие синтаксичских и других ошибок\n",
        "  try:\n",
        "    tree = ast.parse(code)\n",
        "  except SyntaxError as err:\n",
        "    error_arr = f'Код содержит синтаксическую ошибку: {type(err).__name__}: {err}'\n",
        "    return error_arr\n",
        "\n",
        "  except Exception as err:\n",
        "    error_arr = f'Код содержит вредоносные элементы: {err}'\n",
        "    return error_arr\n",
        "\n",
        "  # обходим каждый узел в дереве для выявления конкретных ошибок из списка запрещенных функций FORBIDDEN_NAMES\n",
        "  for node in ast.walk(tree):\n",
        "\n",
        "    # проверяем, является ли узел функцией\n",
        "    if isinstance(node, ast.Call) and isinstance(node.func, ast.Name):\n",
        "\n",
        "      if node.func.id in FORBIDDEN_NAMES:\n",
        "\n",
        "        if node.func.id == 'exec':\n",
        "          error_arr = f'Код содержит запрещенный атрибут: {node.func.id}'\n",
        "          return error_arr\n",
        "\n",
        "\n",
        "        # Если в коде вызывается eval без аргументов\n",
        "        if node.func.id == 'eval' and not node.args:\n",
        "          error_arr = 'Код содержит вызов eval()'\n",
        "          return error_arr\n",
        "\n",
        "  # пустая строка, если ошибок нет\n",
        "  return error_arr\n",
        "\n",
        "def run_tests(standard_code, user_code, test_cases, output_file):\n",
        "  # получаем названия функций в каждом файле\n",
        "  etalon_function_name = dir(standard_code)[-1]\n",
        "  user_function_name = dir(user_code)[-1]\n",
        "\n",
        "  # получаем функции из каждого файла\n",
        "  function_standart = getattr(standard_code, etalon_function_name)\n",
        "  function_user = getattr(user_code, user_function_name)\n",
        "\n",
        "  # проходим по тестовым случаям\n",
        "  s = []\n",
        "  for test in test_cases:\n",
        "    a, b = test\n",
        "\n",
        "    # проверям время выполнения функции\n",
        "    start = time.time()\n",
        "    process = multiprocessing.Process(target=function_user, args=(a, b))\n",
        "    process.start()\n",
        "    process.join(timeout=10)\n",
        "    end = time.time()\n",
        "    timer = end-start\n",
        "\n",
        "    if timer > 5:\n",
        "      print(f'Test case: a = {a}, b = {b}. Timer = {timer}')\n",
        "      s.append('Предупреждение: время выполнения превышает 5 секунд.')\n",
        "      break\n",
        "\n",
        "    # обработка исключений: если код возвращает ошибку - записываем ее в файл, работу автопроверки остановливаем\n",
        "    try:\n",
        "      result_user = function_user(a, b)\n",
        "    except Exception as err:\n",
        "      s.append(f'Ошибка при выполнении кода пользователя: {err}')\n",
        "      break\n",
        "\n",
        "    result_standart = function_standart(a, b)\n",
        "\n",
        "    # если тест пройден - записываем в файл \"Тест пройден\"\n",
        "    if result_standart == result_user:\n",
        "      s.append('Тест пройден\\n')\n",
        "    # если тест не пройден - записываем в файл данные\n",
        "    else:\n",
        "      s.append(f'''Тест не пройден\\nОжидаемый результат: {result_standart}\\nРезультат пользователя: {result_user}\\n''')\n",
        "\n",
        "  with open(output_file, 'w') as f:\n",
        "    f.write(''.join(s))\n",
        "\n",
        "\n",
        "# Чтение кодов из файлов\n",
        "standard_module = importlib.import_module('etalon')\n",
        "user_module = importlib.import_module('user')\n",
        "importlib.reload(user_module)\n",
        "\n",
        "test_cases = [(1, 2), (3, 4), (5, 6)]\n",
        "output_file = 'output_test.txt'\n",
        "\n",
        "# Проверка на вредоносный код\n",
        "malicious_code_message = check_for_malicious_code(inspect.getsource(user_module), output_file)\n",
        "if malicious_code_message:\n",
        "    with open(output_file, 'w') as f:\n",
        "        f.write(\"Ошибка при проверке модуля user_malicious:\\n\")\n",
        "        f.write(malicious_code_message)\n",
        "else:\n",
        "    run_tests(standard_module, user_module, test_cases, output_file)"
      ],
      "metadata": {
        "id": "YxFouD8yHLrX"
      },
      "execution_count": 24,
      "outputs": []
    },
    {
      "cell_type": "markdown",
      "source": [
        "# Конец тестировки"
      ],
      "metadata": {
        "id": "LL0dgOU5UkTr"
      }
    },
    {
      "cell_type": "code",
      "source": [],
      "metadata": {
        "id": "XIh3QHLBHLuR"
      },
      "execution_count": null,
      "outputs": []
    },
    {
      "cell_type": "markdown",
      "source": [
        "✏️ ✏️ ✏️\n",
        "\n",
        "**Проверка**\n",
        "\n",
        "Чтобы проверить свое решение, запустите код в следующих ячейках"
      ],
      "metadata": {
        "id": "0-7TiI06t8D0"
      }
    },
    {
      "cell_type": "code",
      "source": [
        "# Здесь будет скачиваться файл с эталонным ответом\n",
        "\n",
        "!wget https://gist.github.com/Vs8th/cfcafbd2cd46e8905555b02eae78406e/raw/cor_res_3.txt"
      ],
      "metadata": {
        "id": "eOzvKzYqt_UH",
        "colab": {
          "base_uri": "https://localhost:8080/"
        },
        "outputId": "b584f79f-ee54-40f4-8f0e-8ea34beab4f6"
      },
      "execution_count": 11,
      "outputs": [
        {
          "output_type": "stream",
          "name": "stdout",
          "text": [
            "--2025-01-10 17:24:09--  https://gist.github.com/Vs8th/cfcafbd2cd46e8905555b02eae78406e/raw/cor_res_3.txt\n",
            "Resolving gist.github.com (gist.github.com)... 140.82.114.3\n",
            "Connecting to gist.github.com (gist.github.com)|140.82.114.3|:443... connected.\n",
            "HTTP request sent, awaiting response... 301 Moved Permanently\n",
            "Location: https://gist.githubusercontent.com/Vs8th/cfcafbd2cd46e8905555b02eae78406e/raw/cor_res_3.txt [following]\n",
            "--2025-01-10 17:24:09--  https://gist.githubusercontent.com/Vs8th/cfcafbd2cd46e8905555b02eae78406e/raw/cor_res_3.txt\n",
            "Resolving gist.githubusercontent.com (gist.githubusercontent.com)... 185.199.109.133, 185.199.110.133, 185.199.108.133, ...\n",
            "Connecting to gist.githubusercontent.com (gist.githubusercontent.com)|185.199.109.133|:443... connected.\n",
            "HTTP request sent, awaiting response... 200 OK\n",
            "Length: 96 [text/plain]\n",
            "Saving to: ‘cor_res_3.txt’\n",
            "\n",
            "cor_res_3.txt       100%[===================>]      96  --.-KB/s    in 0s      \n",
            "\n",
            "2025-01-10 17:24:09 (3.93 MB/s) - ‘cor_res_3.txt’ saved [96/96]\n",
            "\n"
          ]
        }
      ]
    },
    {
      "cell_type": "code",
      "source": [
        "with open('output3.txt', 'r') as file1:\n",
        "    res1 = file1.read()\n",
        "\n",
        "with open('cor_res_3.txt', 'r') as file2:\n",
        "    res2 = file2.read()\n",
        "\n",
        "try:\n",
        "    assert res1 == res2\n",
        "except AssertionError:\n",
        "    print('Ответы не совпадают')\n",
        "else:\n",
        "    print('Поздравляем, Вы справились!')"
      ],
      "metadata": {
        "colab": {
          "base_uri": "https://localhost:8080/"
        },
        "id": "KzV-hUKcvxb2",
        "outputId": "82fcbc19-68bf-4f8e-edc7-067f1037b6d0"
      },
      "execution_count": 26,
      "outputs": [
        {
          "output_type": "stream",
          "name": "stdout",
          "text": [
            "Поздравляем, Вы справились!\n"
          ]
        }
      ]
    },
    {
      "cell_type": "code",
      "source": [],
      "metadata": {
        "id": "hOoDBgK7sqMK"
      },
      "execution_count": null,
      "outputs": []
    }
  ]
}