{
  "nbformat": 4,
  "nbformat_minor": 0,
  "metadata": {
    "colab": {
      "provenance": []
    },
    "kernelspec": {
      "name": "python3",
      "display_name": "Python 3"
    },
    "language_info": {
      "name": "python"
    }
  },
  "cells": [
    {
      "cell_type": "markdown",
      "source": [
        "## **1 кейс**\n",
        "\n",
        "**ETL продажи**"
      ],
      "metadata": {
        "id": "XUqCUBW5fUST"
      }
    },
    {
      "cell_type": "markdown",
      "source": [
        "**Важно**\n",
        "\n",
        "Перед началом решения выполните следующую ячейку, чтобы загрузить необходимый для работы файл."
      ],
      "metadata": {
        "id": "OcK9kF9mfZIt"
      }
    },
    {
      "cell_type": "code",
      "execution_count": 1,
      "metadata": {
        "id": "KtNBw8nOfPsB",
        "colab": {
          "base_uri": "https://localhost:8080/"
        },
        "outputId": "4eb4dcb2-ace0-4619-9b54-114fc3e26007"
      },
      "outputs": [
        {
          "output_type": "stream",
          "name": "stdout",
          "text": [
            "--2025-03-03 13:25:46--  https://gist.github.com/Vs8th/c1550e322588b735752bf2a7ccd1cdd0/raw/sales_data.csv\n",
            "Resolving gist.github.com (gist.github.com)... 140.82.113.3\n",
            "Connecting to gist.github.com (gist.github.com)|140.82.113.3|:443... connected.\n",
            "HTTP request sent, awaiting response... 301 Moved Permanently\n",
            "Location: https://gist.githubusercontent.com/Vs8th/c1550e322588b735752bf2a7ccd1cdd0/raw/sales_data.csv [following]\n",
            "--2025-03-03 13:25:46--  https://gist.githubusercontent.com/Vs8th/c1550e322588b735752bf2a7ccd1cdd0/raw/sales_data.csv\n",
            "Resolving gist.githubusercontent.com (gist.githubusercontent.com)... 185.199.110.133, 185.199.108.133, 185.199.111.133, ...\n",
            "Connecting to gist.githubusercontent.com (gist.githubusercontent.com)|185.199.110.133|:443... connected.\n",
            "HTTP request sent, awaiting response... 200 OK\n",
            "Length: 31844 (31K) [text/plain]\n",
            "Saving to: ‘sales_data.csv’\n",
            "\n",
            "sales_data.csv      100%[===================>]  31.10K  --.-KB/s    in 0.01s   \n",
            "\n",
            "2025-03-03 13:25:46 (2.78 MB/s) - ‘sales_data.csv’ saved [31844/31844]\n",
            "\n"
          ]
        }
      ],
      "source": [
        "!wget https://gist.github.com/Vs8th/c1550e322588b735752bf2a7ccd1cdd0/raw/sales_data.csv"
      ]
    },
    {
      "cell_type": "markdown",
      "source": [
        "Чтобы посмотреть как он выглядит выполните следующую ячейку."
      ],
      "metadata": {
        "id": "JIwIK2E5fcyA"
      }
    },
    {
      "cell_type": "code",
      "source": [
        "import pandas as pd\n",
        "\n",
        "df = pd.read_csv('sales_data.csv')\n",
        "df"
      ],
      "metadata": {
        "id": "6f84pObFfbGE",
        "colab": {
          "base_uri": "https://localhost:8080/",
          "height": 424
        },
        "outputId": "a691b4a0-adc3-40cb-9019-40958e47d3ff"
      },
      "execution_count": 2,
      "outputs": [
        {
          "output_type": "execute_result",
          "data": {
            "text/plain": [
              "       id        date  amount    product\n",
              "0       1  2023-04-25   35.21  Product 6\n",
              "1       2  2022-08-31  359.19  Product 9\n",
              "2       3  2023-01-22  117.53  Product 5\n",
              "3       4  2022-12-15  366.68  Product 4\n",
              "4       5  2023-03-06  628.65  Product 2\n",
              "..    ...         ...     ...        ...\n",
              "995   996  2022-07-10  653.66  Product 3\n",
              "996   997  2023-01-13  691.89  Product 3\n",
              "997   998  2023-01-31  207.24  Product 1\n",
              "998   999  2023-01-16  653.59  Product 2\n",
              "999  1000  2023-06-20  448.11  Product 3\n",
              "\n",
              "[1000 rows x 4 columns]"
            ],
            "text/html": [
              "\n",
              "  <div id=\"df-e2a5e374-02be-41a4-9d57-33ecc49963c2\" class=\"colab-df-container\">\n",
              "    <div>\n",
              "<style scoped>\n",
              "    .dataframe tbody tr th:only-of-type {\n",
              "        vertical-align: middle;\n",
              "    }\n",
              "\n",
              "    .dataframe tbody tr th {\n",
              "        vertical-align: top;\n",
              "    }\n",
              "\n",
              "    .dataframe thead th {\n",
              "        text-align: right;\n",
              "    }\n",
              "</style>\n",
              "<table border=\"1\" class=\"dataframe\">\n",
              "  <thead>\n",
              "    <tr style=\"text-align: right;\">\n",
              "      <th></th>\n",
              "      <th>id</th>\n",
              "      <th>date</th>\n",
              "      <th>amount</th>\n",
              "      <th>product</th>\n",
              "    </tr>\n",
              "  </thead>\n",
              "  <tbody>\n",
              "    <tr>\n",
              "      <th>0</th>\n",
              "      <td>1</td>\n",
              "      <td>2023-04-25</td>\n",
              "      <td>35.21</td>\n",
              "      <td>Product 6</td>\n",
              "    </tr>\n",
              "    <tr>\n",
              "      <th>1</th>\n",
              "      <td>2</td>\n",
              "      <td>2022-08-31</td>\n",
              "      <td>359.19</td>\n",
              "      <td>Product 9</td>\n",
              "    </tr>\n",
              "    <tr>\n",
              "      <th>2</th>\n",
              "      <td>3</td>\n",
              "      <td>2023-01-22</td>\n",
              "      <td>117.53</td>\n",
              "      <td>Product 5</td>\n",
              "    </tr>\n",
              "    <tr>\n",
              "      <th>3</th>\n",
              "      <td>4</td>\n",
              "      <td>2022-12-15</td>\n",
              "      <td>366.68</td>\n",
              "      <td>Product 4</td>\n",
              "    </tr>\n",
              "    <tr>\n",
              "      <th>4</th>\n",
              "      <td>5</td>\n",
              "      <td>2023-03-06</td>\n",
              "      <td>628.65</td>\n",
              "      <td>Product 2</td>\n",
              "    </tr>\n",
              "    <tr>\n",
              "      <th>...</th>\n",
              "      <td>...</td>\n",
              "      <td>...</td>\n",
              "      <td>...</td>\n",
              "      <td>...</td>\n",
              "    </tr>\n",
              "    <tr>\n",
              "      <th>995</th>\n",
              "      <td>996</td>\n",
              "      <td>2022-07-10</td>\n",
              "      <td>653.66</td>\n",
              "      <td>Product 3</td>\n",
              "    </tr>\n",
              "    <tr>\n",
              "      <th>996</th>\n",
              "      <td>997</td>\n",
              "      <td>2023-01-13</td>\n",
              "      <td>691.89</td>\n",
              "      <td>Product 3</td>\n",
              "    </tr>\n",
              "    <tr>\n",
              "      <th>997</th>\n",
              "      <td>998</td>\n",
              "      <td>2023-01-31</td>\n",
              "      <td>207.24</td>\n",
              "      <td>Product 1</td>\n",
              "    </tr>\n",
              "    <tr>\n",
              "      <th>998</th>\n",
              "      <td>999</td>\n",
              "      <td>2023-01-16</td>\n",
              "      <td>653.59</td>\n",
              "      <td>Product 2</td>\n",
              "    </tr>\n",
              "    <tr>\n",
              "      <th>999</th>\n",
              "      <td>1000</td>\n",
              "      <td>2023-06-20</td>\n",
              "      <td>448.11</td>\n",
              "      <td>Product 3</td>\n",
              "    </tr>\n",
              "  </tbody>\n",
              "</table>\n",
              "<p>1000 rows × 4 columns</p>\n",
              "</div>\n",
              "    <div class=\"colab-df-buttons\">\n",
              "\n",
              "  <div class=\"colab-df-container\">\n",
              "    <button class=\"colab-df-convert\" onclick=\"convertToInteractive('df-e2a5e374-02be-41a4-9d57-33ecc49963c2')\"\n",
              "            title=\"Convert this dataframe to an interactive table.\"\n",
              "            style=\"display:none;\">\n",
              "\n",
              "  <svg xmlns=\"http://www.w3.org/2000/svg\" height=\"24px\" viewBox=\"0 -960 960 960\">\n",
              "    <path d=\"M120-120v-720h720v720H120Zm60-500h600v-160H180v160Zm220 220h160v-160H400v160Zm0 220h160v-160H400v160ZM180-400h160v-160H180v160Zm440 0h160v-160H620v160ZM180-180h160v-160H180v160Zm440 0h160v-160H620v160Z\"/>\n",
              "  </svg>\n",
              "    </button>\n",
              "\n",
              "  <style>\n",
              "    .colab-df-container {\n",
              "      display:flex;\n",
              "      gap: 12px;\n",
              "    }\n",
              "\n",
              "    .colab-df-convert {\n",
              "      background-color: #E8F0FE;\n",
              "      border: none;\n",
              "      border-radius: 50%;\n",
              "      cursor: pointer;\n",
              "      display: none;\n",
              "      fill: #1967D2;\n",
              "      height: 32px;\n",
              "      padding: 0 0 0 0;\n",
              "      width: 32px;\n",
              "    }\n",
              "\n",
              "    .colab-df-convert:hover {\n",
              "      background-color: #E2EBFA;\n",
              "      box-shadow: 0px 1px 2px rgba(60, 64, 67, 0.3), 0px 1px 3px 1px rgba(60, 64, 67, 0.15);\n",
              "      fill: #174EA6;\n",
              "    }\n",
              "\n",
              "    .colab-df-buttons div {\n",
              "      margin-bottom: 4px;\n",
              "    }\n",
              "\n",
              "    [theme=dark] .colab-df-convert {\n",
              "      background-color: #3B4455;\n",
              "      fill: #D2E3FC;\n",
              "    }\n",
              "\n",
              "    [theme=dark] .colab-df-convert:hover {\n",
              "      background-color: #434B5C;\n",
              "      box-shadow: 0px 1px 3px 1px rgba(0, 0, 0, 0.15);\n",
              "      filter: drop-shadow(0px 1px 2px rgba(0, 0, 0, 0.3));\n",
              "      fill: #FFFFFF;\n",
              "    }\n",
              "  </style>\n",
              "\n",
              "    <script>\n",
              "      const buttonEl =\n",
              "        document.querySelector('#df-e2a5e374-02be-41a4-9d57-33ecc49963c2 button.colab-df-convert');\n",
              "      buttonEl.style.display =\n",
              "        google.colab.kernel.accessAllowed ? 'block' : 'none';\n",
              "\n",
              "      async function convertToInteractive(key) {\n",
              "        const element = document.querySelector('#df-e2a5e374-02be-41a4-9d57-33ecc49963c2');\n",
              "        const dataTable =\n",
              "          await google.colab.kernel.invokeFunction('convertToInteractive',\n",
              "                                                    [key], {});\n",
              "        if (!dataTable) return;\n",
              "\n",
              "        const docLinkHtml = 'Like what you see? Visit the ' +\n",
              "          '<a target=\"_blank\" href=https://colab.research.google.com/notebooks/data_table.ipynb>data table notebook</a>'\n",
              "          + ' to learn more about interactive tables.';\n",
              "        element.innerHTML = '';\n",
              "        dataTable['output_type'] = 'display_data';\n",
              "        await google.colab.output.renderOutput(dataTable, element);\n",
              "        const docLink = document.createElement('div');\n",
              "        docLink.innerHTML = docLinkHtml;\n",
              "        element.appendChild(docLink);\n",
              "      }\n",
              "    </script>\n",
              "  </div>\n",
              "\n",
              "\n",
              "<div id=\"df-5ae76dd2-e37e-4f16-8cd1-ca9856bcf97f\">\n",
              "  <button class=\"colab-df-quickchart\" onclick=\"quickchart('df-5ae76dd2-e37e-4f16-8cd1-ca9856bcf97f')\"\n",
              "            title=\"Suggest charts\"\n",
              "            style=\"display:none;\">\n",
              "\n",
              "<svg xmlns=\"http://www.w3.org/2000/svg\" height=\"24px\"viewBox=\"0 0 24 24\"\n",
              "     width=\"24px\">\n",
              "    <g>\n",
              "        <path d=\"M19 3H5c-1.1 0-2 .9-2 2v14c0 1.1.9 2 2 2h14c1.1 0 2-.9 2-2V5c0-1.1-.9-2-2-2zM9 17H7v-7h2v7zm4 0h-2V7h2v10zm4 0h-2v-4h2v4z\"/>\n",
              "    </g>\n",
              "</svg>\n",
              "  </button>\n",
              "\n",
              "<style>\n",
              "  .colab-df-quickchart {\n",
              "      --bg-color: #E8F0FE;\n",
              "      --fill-color: #1967D2;\n",
              "      --hover-bg-color: #E2EBFA;\n",
              "      --hover-fill-color: #174EA6;\n",
              "      --disabled-fill-color: #AAA;\n",
              "      --disabled-bg-color: #DDD;\n",
              "  }\n",
              "\n",
              "  [theme=dark] .colab-df-quickchart {\n",
              "      --bg-color: #3B4455;\n",
              "      --fill-color: #D2E3FC;\n",
              "      --hover-bg-color: #434B5C;\n",
              "      --hover-fill-color: #FFFFFF;\n",
              "      --disabled-bg-color: #3B4455;\n",
              "      --disabled-fill-color: #666;\n",
              "  }\n",
              "\n",
              "  .colab-df-quickchart {\n",
              "    background-color: var(--bg-color);\n",
              "    border: none;\n",
              "    border-radius: 50%;\n",
              "    cursor: pointer;\n",
              "    display: none;\n",
              "    fill: var(--fill-color);\n",
              "    height: 32px;\n",
              "    padding: 0;\n",
              "    width: 32px;\n",
              "  }\n",
              "\n",
              "  .colab-df-quickchart:hover {\n",
              "    background-color: var(--hover-bg-color);\n",
              "    box-shadow: 0 1px 2px rgba(60, 64, 67, 0.3), 0 1px 3px 1px rgba(60, 64, 67, 0.15);\n",
              "    fill: var(--button-hover-fill-color);\n",
              "  }\n",
              "\n",
              "  .colab-df-quickchart-complete:disabled,\n",
              "  .colab-df-quickchart-complete:disabled:hover {\n",
              "    background-color: var(--disabled-bg-color);\n",
              "    fill: var(--disabled-fill-color);\n",
              "    box-shadow: none;\n",
              "  }\n",
              "\n",
              "  .colab-df-spinner {\n",
              "    border: 2px solid var(--fill-color);\n",
              "    border-color: transparent;\n",
              "    border-bottom-color: var(--fill-color);\n",
              "    animation:\n",
              "      spin 1s steps(1) infinite;\n",
              "  }\n",
              "\n",
              "  @keyframes spin {\n",
              "    0% {\n",
              "      border-color: transparent;\n",
              "      border-bottom-color: var(--fill-color);\n",
              "      border-left-color: var(--fill-color);\n",
              "    }\n",
              "    20% {\n",
              "      border-color: transparent;\n",
              "      border-left-color: var(--fill-color);\n",
              "      border-top-color: var(--fill-color);\n",
              "    }\n",
              "    30% {\n",
              "      border-color: transparent;\n",
              "      border-left-color: var(--fill-color);\n",
              "      border-top-color: var(--fill-color);\n",
              "      border-right-color: var(--fill-color);\n",
              "    }\n",
              "    40% {\n",
              "      border-color: transparent;\n",
              "      border-right-color: var(--fill-color);\n",
              "      border-top-color: var(--fill-color);\n",
              "    }\n",
              "    60% {\n",
              "      border-color: transparent;\n",
              "      border-right-color: var(--fill-color);\n",
              "    }\n",
              "    80% {\n",
              "      border-color: transparent;\n",
              "      border-right-color: var(--fill-color);\n",
              "      border-bottom-color: var(--fill-color);\n",
              "    }\n",
              "    90% {\n",
              "      border-color: transparent;\n",
              "      border-bottom-color: var(--fill-color);\n",
              "    }\n",
              "  }\n",
              "</style>\n",
              "\n",
              "  <script>\n",
              "    async function quickchart(key) {\n",
              "      const quickchartButtonEl =\n",
              "        document.querySelector('#' + key + ' button');\n",
              "      quickchartButtonEl.disabled = true;  // To prevent multiple clicks.\n",
              "      quickchartButtonEl.classList.add('colab-df-spinner');\n",
              "      try {\n",
              "        const charts = await google.colab.kernel.invokeFunction(\n",
              "            'suggestCharts', [key], {});\n",
              "      } catch (error) {\n",
              "        console.error('Error during call to suggestCharts:', error);\n",
              "      }\n",
              "      quickchartButtonEl.classList.remove('colab-df-spinner');\n",
              "      quickchartButtonEl.classList.add('colab-df-quickchart-complete');\n",
              "    }\n",
              "    (() => {\n",
              "      let quickchartButtonEl =\n",
              "        document.querySelector('#df-5ae76dd2-e37e-4f16-8cd1-ca9856bcf97f button');\n",
              "      quickchartButtonEl.style.display =\n",
              "        google.colab.kernel.accessAllowed ? 'block' : 'none';\n",
              "    })();\n",
              "  </script>\n",
              "</div>\n",
              "    </div>\n",
              "  </div>\n"
            ],
            "application/vnd.google.colaboratory.intrinsic+json": {
              "type": "dataframe",
              "variable_name": "df",
              "summary": "{\n  \"name\": \"df\",\n  \"rows\": 1000,\n  \"fields\": [\n    {\n      \"column\": \"id\",\n      \"properties\": {\n        \"dtype\": \"number\",\n        \"std\": 288,\n        \"min\": 1,\n        \"max\": 1000,\n        \"num_unique_values\": 1000,\n        \"samples\": [\n          522,\n          738,\n          741\n        ],\n        \"semantic_type\": \"\",\n        \"description\": \"\"\n      }\n    },\n    {\n      \"column\": \"date\",\n      \"properties\": {\n        \"dtype\": \"object\",\n        \"num_unique_values\": 336,\n        \"samples\": [\n          \"2023-07-01\",\n          \"2023-02-15\",\n          \"2023-05-06\"\n        ],\n        \"semantic_type\": \"\",\n        \"description\": \"\"\n      }\n    },\n    {\n      \"column\": \"amount\",\n      \"properties\": {\n        \"dtype\": \"number\",\n        \"std\": 281.5513498462036,\n        \"min\": 13.44,\n        \"max\": 999.68,\n        \"num_unique_values\": 993,\n        \"samples\": [\n          702.87,\n          267.45,\n          429.57\n        ],\n        \"semantic_type\": \"\",\n        \"description\": \"\"\n      }\n    },\n    {\n      \"column\": \"product\",\n      \"properties\": {\n        \"dtype\": \"category\",\n        \"num_unique_values\": 10,\n        \"samples\": [\n          \"Product 10\",\n          \"Product 9\",\n          \"Product 3\"\n        ],\n        \"semantic_type\": \"\",\n        \"description\": \"\"\n      }\n    }\n  ]\n}"
            }
          },
          "metadata": {},
          "execution_count": 2
        }
      ]
    },
    {
      "cell_type": "markdown",
      "source": [
        "### **Решения**"
      ],
      "metadata": {
        "id": "CxmnD3GvffQ4"
      }
    },
    {
      "cell_type": "markdown",
      "source": [
        "#### **Задача 1**\n",
        "\n",
        "Ваша задача написать класс `Extraction`, и определить в нем метод `from_csv`, который принимал бы путь к файлу и вытаскивал данные в виде списка объектов.\n",
        "\n",
        "Для этого, здесь же, определите класс `Sale`."
      ],
      "metadata": {
        "id": "5bdLXu2ksLB7"
      }
    },
    {
      "cell_type": "markdown",
      "source": [
        "**Решение**\n",
        "\n",
        "Напишите свое решение ниже"
      ],
      "metadata": {
        "id": "qUL4LtIUnJge"
      }
    },
    {
      "cell_type": "code",
      "source": [
        "class Extraction():\n",
        "  @staticmethod\n",
        "  def from_csv(file_path):\n",
        "    try:\n",
        "      with open (file_path, 'r') as file:\n",
        "        data = file.readlines()\n",
        "        if len(data) == 0:\n",
        "          raise ValueError('Файл пуст')\n",
        "\n",
        "        list_of_objects = []\n",
        "        for el in data[1:]:\n",
        "          exeplyar = Sale(el.strip().split(','))\n",
        "          list_of_objects.append(exeplyar)\n",
        "\n",
        "        return list_of_objects\n",
        "    except Exception as e:\n",
        "      print(f\"Тип ошибки: {type(e).__name__},\\nсообщение: {e}\")\n",
        "    return []\n",
        "\n",
        "\n",
        "class Sale():\n",
        "  def __init__(self, list_of_objects):\n",
        "    self.__id = list_of_objects[0]\n",
        "    self.__date = list_of_objects[1]\n",
        "    self.__amount = float(list_of_objects[2])\n",
        "    self.__product = list_of_objects[3]\n",
        "\n",
        "  def set_id(self, value):\n",
        "      self.__id = value\n",
        "\n",
        "\n",
        "  def get_id(self):\n",
        "    return self.__id\n",
        "\n",
        "\n",
        "  def set_date(self, value):\n",
        "      self.__date = value\n",
        "\n",
        "\n",
        "  def get_date(self):\n",
        "    return self.__date\n",
        "\n",
        "\n",
        "  def set_amount(self, value):\n",
        "      self.__amount = value\n",
        "\n",
        "\n",
        "  def get_amount(self):\n",
        "    return self.__amount\n",
        "\n",
        "\n",
        "  def set_product(self, value):\n",
        "      self.__product = value\n",
        "\n",
        "\n",
        "  def get_product(self):\n",
        "    return self.__product"
      ],
      "metadata": {
        "id": "Ia39hhmZbNRW"
      },
      "execution_count": 3,
      "outputs": []
    },
    {
      "cell_type": "code",
      "source": [
        "data = Extraction.from_csv(\"sales_data.csv\")\n",
        "\n",
        "res = []\n",
        "for i in data[5:105:25]:\n",
        "  id = i.get_id()\n",
        "  date = i.get_date()\n",
        "  amount = i.get_amount()\n",
        "  product = i.get_product()\n",
        "  res.append((id, date, amount, product))"
      ],
      "metadata": {
        "id": "pUt_gkV_CY_h"
      },
      "execution_count": 4,
      "outputs": []
    },
    {
      "cell_type": "code",
      "source": [
        "res"
      ],
      "metadata": {
        "colab": {
          "base_uri": "https://localhost:8080/"
        },
        "id": "UP6ICY8lFHg8",
        "outputId": "099e90b5-a2fe-45df-cbfb-9cdff1a76fe8"
      },
      "execution_count": 5,
      "outputs": [
        {
          "output_type": "execute_result",
          "data": {
            "text/plain": [
              "[('6', '2022-08-04', 843.69, 'Product 3'),\n",
              " ('31', '2022-11-06', 131.6, 'Product 8'),\n",
              " ('56', '2023-06-24', 747.08, 'Product 8'),\n",
              " ('81', '2023-05-09', 658.02, 'Product 10')]"
            ]
          },
          "metadata": {},
          "execution_count": 5
        }
      ]
    },
    {
      "cell_type": "code",
      "source": [
        "data[0].get_date()"
      ],
      "metadata": {
        "colab": {
          "base_uri": "https://localhost:8080/",
          "height": 35
        },
        "id": "ZtuoOiSyOD0E",
        "outputId": "a78234d1-1f63-491c-de42-f1c7283d0af7"
      },
      "execution_count": 12,
      "outputs": [
        {
          "output_type": "execute_result",
          "data": {
            "text/plain": [
              "'2023-04-25'"
            ],
            "application/vnd.google.colaboratory.intrinsic+json": {
              "type": "string"
            }
          },
          "metadata": {},
          "execution_count": 12
        }
      ]
    },
    {
      "cell_type": "markdown",
      "source": [
        "✏️ ✏️ ✏️\n",
        "\n",
        "**Проверка**\n",
        "\n",
        "Чтобы проверить свое решение, запустите код в следующих ячейках"
      ],
      "metadata": {
        "id": "54Tvpn9OkDwV"
      }
    },
    {
      "cell_type": "code",
      "source": [
        "#@title ✏️ Проверка: чтобы проверить свое решение запустите код в этой ячейке\n",
        "a = Extraction.from_csv('sales_data.csv')\n",
        "res = []\n",
        "for i in a[5:105:25]:\n",
        "  id = i.get_id()\n",
        "  date = i.get_date()\n",
        "  amount = i.get_amount()\n",
        "  product = i.get_product()\n",
        "  res.append((id, date, amount, product))\n",
        "\n",
        "try:\n",
        "    assert res == [('6', '2022-08-04', 843.69, 'Product 3'),\n",
        "                   ('31', '2022-11-06', 131.6, 'Product 8'),\n",
        "                   ('56', '2023-06-24', 747.08, 'Product 8'),\n",
        "                   ('81', '2023-05-09', 658.02, 'Product 10')]\n",
        "except AssertionError:\n",
        "    print('Ответы не совпадают')\n",
        "else:\n",
        "    print('Поздравляем, Вы справились!')"
      ],
      "metadata": {
        "id": "LkqzVw9skKEC",
        "colab": {
          "base_uri": "https://localhost:8080/"
        },
        "outputId": "86844704-7321-4881-bac6-ad406b9dd24a",
        "cellView": "form"
      },
      "execution_count": 6,
      "outputs": [
        {
          "output_type": "stream",
          "name": "stdout",
          "text": [
            "Поздравляем, Вы справились!\n"
          ]
        }
      ]
    },
    {
      "cell_type": "markdown",
      "source": [
        "#### **Задача 2**\n",
        "\n",
        "Напишите класс `Transformation`, который содержит два метода: `filter_by_date(sales_data, start_date, end_date)` и `filter_by_amount(sales_data, min_amount, max_amount)`."
      ],
      "metadata": {
        "id": "QLNMvvhXoIdV"
      }
    },
    {
      "cell_type": "markdown",
      "source": [
        "**Решение**\n",
        "\n",
        "Напишите свое решение ниже"
      ],
      "metadata": {
        "id": "LThhpSINoMHN"
      }
    },
    {
      "cell_type": "code",
      "source": [
        "from datetime import datetime\n",
        "\n",
        "class Transformation:\n",
        "\n",
        "  @staticmethod\n",
        "  def filter_by_date(sales_data, start_date, end_date):\n",
        "\n",
        "    start_date_object = datetime.strptime(start_date, '%Y-%m-%d')\n",
        "    end_date_object  = datetime.strptime(end_date, '%Y-%m-%d')\n",
        "\n",
        "    result = []\n",
        "\n",
        "    for element in sales_data:\n",
        "      date_string = element.get_date()\n",
        "      date_object = datetime.strptime(date_string, '%Y-%m-%d')\n",
        "      if date_object >= start_date_object and date_object <= end_date_object:\n",
        "        result.append(element)\n",
        "    return result\n",
        "\n",
        "\n",
        "\n",
        "  @staticmethod\n",
        "  def filter_by_amount(sales_data, min_amount, max_amount):\n",
        "    result = []\n",
        "\n",
        "    for element in sales_data:\n",
        "      amount = element.get_amount()\n",
        "\n",
        "      if amount >= min_amount and amount <= max_amount:\n",
        "        result.append(element)\n",
        "    return result\n"
      ],
      "metadata": {
        "id": "9s8JBMlboJuf"
      },
      "execution_count": 69,
      "outputs": []
    },
    {
      "cell_type": "code",
      "source": [
        "sales_data = Extraction.from_csv('sales_data.csv')\n",
        "filtered_sales1 = Transformation.filter_by_date(sales_data, '2023-01-01', '2023-06-30')\n",
        "\n",
        "res2 = []\n",
        "for i in filtered_sales1[5:105:36]:\n",
        "  id = i.get_id()\n",
        "  date = i.get_date()\n",
        "  amount = i.get_amount()\n",
        "  product = i.get_product()\n",
        "  res2.append((id, date, amount, product))\n",
        "\n",
        "print(res2)\n",
        "\n",
        "sales_data = Extraction.from_csv('sales_data.csv')\n",
        "filtered_sales2 = Transformation.filter_by_amount(filtered_sales1, 100, 1000)\n",
        "res3 = []\n",
        "for i in filtered_sales2[5:105:36]:\n",
        "  id = i.get_id()\n",
        "  date = i.get_date()\n",
        "  amount = i.get_amount()\n",
        "  product = i.get_product()\n",
        "  res3.append((id, date, amount, product))\n",
        "print(res3)"
      ],
      "metadata": {
        "colab": {
          "base_uri": "https://localhost:8080/"
        },
        "id": "caHdKzn0R6R-",
        "outputId": "d636b1bf-4a3a-4793-9346-ab4c7104404a"
      },
      "execution_count": 31,
      "outputs": [
        {
          "output_type": "stream",
          "name": "stdout",
          "text": [
            "[('10', '2023-02-04', 530.21, 'Product 1'), ('97', '2023-03-16', 518.75, 'Product 8'), ('163', '2023-06-12', 706.27, 'Product 9')]\n",
            "[('11', '2023-01-04', 974.04, 'Product 10'), ('104', '2023-06-19', 680.99, 'Product 9'), ('178', '2023-01-28', 417.43, 'Product 7')]\n"
          ]
        }
      ]
    },
    {
      "cell_type": "markdown",
      "source": [
        "✏️ ✏️ ✏️\n",
        "\n",
        "**Проверка**\n",
        "\n",
        "Чтобы проверить свое решение, запустите код в следующих ячейках"
      ],
      "metadata": {
        "id": "GN_PNZICsxRD"
      }
    },
    {
      "cell_type": "code",
      "source": [
        "#@title ✏️ Проверка: чтобы проверить свое решение запустите код в этой ячейке\n",
        "sales_data = Extraction.from_csv('sales_data.csv')\n",
        "filtered_sales1 = Transformation.filter_by_date(sales_data, '2023-01-01', '2023-06-30')\n",
        "res2 = []\n",
        "for i in filtered_sales1[5:105:36]:\n",
        "  id = i.get_id()\n",
        "  date = i.get_date()\n",
        "  amount = i.get_amount()\n",
        "  product = i.get_product()\n",
        "  res2.append((id, date, amount, product))\n",
        "\n",
        "try:\n",
        "    assert res2 == [('10', '2023-02-04', 530.21, 'Product 1'),\n",
        "                    ('97', '2023-03-16', 518.75, 'Product 8'),\n",
        "                    ('163', '2023-06-12', 706.27, 'Product 9')]\n",
        "except AssertionError:\n",
        "    print('Ответы не совпадают')\n",
        "else:\n",
        "    print('Поздравляем, Вы справились!')"
      ],
      "metadata": {
        "colab": {
          "base_uri": "https://localhost:8080/"
        },
        "id": "a36bM9j9tD7l",
        "outputId": "4c144860-39e7-4c32-b3ba-6dd94e52c9b7"
      },
      "execution_count": 70,
      "outputs": [
        {
          "output_type": "stream",
          "name": "stdout",
          "text": [
            "Поздравляем, Вы справились!\n"
          ]
        }
      ]
    },
    {
      "cell_type": "code",
      "source": [
        "#@title ✏️ Проверка: чтобы проверить свое решение запустите код в этой ячейке\n",
        "sales_data = Extraction.from_csv('sales_data.csv')\n",
        "filtered_sales2 = Transformation.filter_by_amount(filtered_sales1, 100, 1000)\n",
        "res3 = []\n",
        "for i in filtered_sales2[5:105:36]:\n",
        "  id = i.get_id()\n",
        "  date = i.get_date()\n",
        "  amount = i.get_amount()\n",
        "  product = i.get_product()\n",
        "  res3.append((id, date, amount, product))\n",
        "\n",
        "try:\n",
        "    assert res3 == [('11', '2023-01-04', 974.04, 'Product 10'),\n",
        "                    ('104', '2023-06-19', 680.99, 'Product 9'),\n",
        "                    ('178', '2023-01-28', 417.43, 'Product 7')]\n",
        "except AssertionError:\n",
        "    print('Ответы не совпадают')\n",
        "else:\n",
        "    print('Поздравляем, Вы справились!')"
      ],
      "metadata": {
        "colab": {
          "base_uri": "https://localhost:8080/"
        },
        "id": "khbNXvlDyYAT",
        "outputId": "9b32867b-ce74-42e8-cb62-833d9be6229c"
      },
      "execution_count": 71,
      "outputs": [
        {
          "output_type": "stream",
          "name": "stdout",
          "text": [
            "Поздравляем, Вы справились!\n"
          ]
        }
      ]
    },
    {
      "cell_type": "markdown",
      "source": [
        "#### **Задача 3**\n",
        "\n",
        "Напишите класс `Analysis`, содержащий два метода: `calculate_total_sales` и `calculate_average_sales`. Возвращаемые значения округлите до двух знаков после запятой."
      ],
      "metadata": {
        "id": "AwB-HtPLtjyl"
      }
    },
    {
      "cell_type": "markdown",
      "source": [
        "**Решение**\n",
        "\n",
        "Напишите свое решение ниже"
      ],
      "metadata": {
        "id": "GOTB--hmt2xw"
      }
    },
    {
      "cell_type": "code",
      "source": [
        "class Analysis:\n",
        "\n",
        "  @staticmethod\n",
        "  def calculate_total_sales(sales_data):\n",
        "    result = [element.get_amount() for element in sales_data]\n",
        "\n",
        "    return sum(result)\n",
        "\n",
        "\n",
        "  @staticmethod\n",
        "  def calculate_average_sales(sales_data):\n",
        "    result = [element.get_amount() for element in sales_data]\n",
        "\n",
        "    return sum(result)/len(result) if result else 0\n"
      ],
      "metadata": {
        "id": "fz7nRb_ntKMv"
      },
      "execution_count": 38,
      "outputs": []
    },
    {
      "cell_type": "markdown",
      "source": [
        "✏️ ✏️ ✏️\n",
        "\n",
        "**Проверка**\n",
        "\n",
        "Чтобы проверить свое решение, запустите код в следующих ячейках"
      ],
      "metadata": {
        "id": "0-7TiI06t8D0"
      }
    },
    {
      "cell_type": "code",
      "source": [
        "#@title ✏️ Проверка: чтобы проверить свое решение запустите код в этой ячейке\n",
        "res4 = round(Analysis.calculate_total_sales(sales_data), 2)\n",
        "\n",
        "try:\n",
        "    assert res4 == 522581.97\n",
        "except AssertionError:\n",
        "    print('Ответы не совпадают')\n",
        "else:\n",
        "    print('Поздравляем, Вы справились!')"
      ],
      "metadata": {
        "colab": {
          "base_uri": "https://localhost:8080/"
        },
        "id": "KzV-hUKcvxb2",
        "outputId": "e3a4883b-1cf0-40f0-9645-1227e0978182",
        "cellView": "form"
      },
      "execution_count": 39,
      "outputs": [
        {
          "output_type": "stream",
          "name": "stdout",
          "text": [
            "Поздравляем, Вы справились!\n"
          ]
        }
      ]
    },
    {
      "cell_type": "code",
      "source": [
        "#@title ✏️ Проверка: чтобы проверить свое решение запустите код в этой ячейке\n",
        "res5 = round(Analysis.calculate_average_sales(sales_data), 2)\n",
        "\n",
        "try:\n",
        "    assert res5 == 522.58\n",
        "except AssertionError:\n",
        "    print('Ответы не совпадают')\n",
        "else:\n",
        "    print('Поздравляем, Вы справились!')"
      ],
      "metadata": {
        "colab": {
          "base_uri": "https://localhost:8080/"
        },
        "id": "2Pk17zzBzsDn",
        "outputId": "30eece31-48c8-4561-f11b-54d7510f1813",
        "cellView": "form"
      },
      "execution_count": 40,
      "outputs": [
        {
          "output_type": "stream",
          "name": "stdout",
          "text": [
            "Поздравляем, Вы справились!\n"
          ]
        }
      ]
    },
    {
      "cell_type": "markdown",
      "source": [
        "#### **Задача 4**\n",
        "\n",
        "Напишите класс `Loading` с методом `to_csv(sales_data, file_path)`, который запишет данные в `csv` файл."
      ],
      "metadata": {
        "id": "CgRs9f--z9N-"
      }
    },
    {
      "cell_type": "markdown",
      "source": [
        "**Решение**\n",
        "\n",
        "Напишите свое решение ниже"
      ],
      "metadata": {
        "id": "HAC66WJB0DtG"
      }
    },
    {
      "cell_type": "code",
      "source": [
        "class Loading:\n",
        "\n",
        "  @staticmethod\n",
        "  def to_csv(sales_data, file_path):\n",
        "    list_of_strings = ['id,date,amount,product\\n']\n",
        "\n",
        "    for element in sales_data:\n",
        "        id = element.get_id()\n",
        "        date = element.get_date()\n",
        "        amount = element.get_amount()\n",
        "        product = element.get_product()\n",
        "\n",
        "        list_of_strings.append(f'{id},{date},{amount},{product}\\n')\n",
        "\n",
        "    with open(file_path, 'w') as file:\n",
        "      file.writelines(list_of_strings)\n",
        ""
      ],
      "metadata": {
        "id": "63tUPEeLz5e1"
      },
      "execution_count": 72,
      "outputs": []
    },
    {
      "cell_type": "code",
      "source": [
        "filtered_sales2[:4]"
      ],
      "metadata": {
        "colab": {
          "base_uri": "https://localhost:8080/"
        },
        "id": "gRmi3G1VWaya",
        "outputId": "64be2674-5fba-4f4a-a870-6a5c97f057c7"
      },
      "execution_count": 42,
      "outputs": [
        {
          "output_type": "execute_result",
          "data": {
            "text/plain": [
              "[<__main__.Sale at 0x7f0a6734f290>,\n",
              " <__main__.Sale at 0x7f0a6734d050>,\n",
              " <__main__.Sale at 0x7f0a6734ea90>,\n",
              " <__main__.Sale at 0x7f0a6734fa50>]"
            ]
          },
          "metadata": {},
          "execution_count": 42
        }
      ]
    },
    {
      "cell_type": "code",
      "source": [],
      "metadata": {
        "id": "A5r0JZ5uWa09"
      },
      "execution_count": null,
      "outputs": []
    },
    {
      "cell_type": "markdown",
      "source": [
        "✏️ ✏️ ✏️\n",
        "\n",
        "**Проверка**\n",
        "\n",
        "Чтобы проверить свое решение, запустите код в следующих ячейках"
      ],
      "metadata": {
        "id": "wAeUY7ey0JGJ"
      }
    },
    {
      "cell_type": "code",
      "source": [
        "Loading.to_csv(filtered_sales2, 'filtered_sales.csv')"
      ],
      "metadata": {
        "id": "BbYGpfJ40HC9"
      },
      "execution_count": 73,
      "outputs": []
    },
    {
      "cell_type": "code",
      "source": [
        "# Здесь будет скачиваться файл с эталонным ответом\n",
        "\n",
        "!wget https://gist.github.com/Vs8th/533f827cc337efe288a5064604fe4e56/raw/filtered_sales_cor.csv\n",
        "\n",
        "import pandas as pd\n",
        "\n",
        "user_answer = pd.read_csv('filtered_sales.csv')\n",
        "correct_answer = pd.read_csv('filtered_sales_cor.csv')"
      ],
      "metadata": {
        "id": "nArXJ0ax1F09",
        "colab": {
          "base_uri": "https://localhost:8080/"
        },
        "outputId": "04250942-9b6f-4dc0-cb22-da76c7c50db3"
      },
      "execution_count": 75,
      "outputs": [
        {
          "output_type": "stream",
          "name": "stdout",
          "text": [
            "--2025-03-03 15:05:42--  https://gist.github.com/Vs8th/533f827cc337efe288a5064604fe4e56/raw/filtered_sales_cor.csv\n",
            "Resolving gist.github.com (gist.github.com)... 140.82.114.4\n",
            "Connecting to gist.github.com (gist.github.com)|140.82.114.4|:443... connected.\n",
            "HTTP request sent, awaiting response... 301 Moved Permanently\n",
            "Location: https://gist.githubusercontent.com/Vs8th/533f827cc337efe288a5064604fe4e56/raw/filtered_sales_cor.csv [following]\n",
            "--2025-03-03 15:05:42--  https://gist.githubusercontent.com/Vs8th/533f827cc337efe288a5064604fe4e56/raw/filtered_sales_cor.csv\n",
            "Resolving gist.githubusercontent.com (gist.githubusercontent.com)... 185.199.108.133, 185.199.109.133, 185.199.110.133, ...\n",
            "Connecting to gist.githubusercontent.com (gist.githubusercontent.com)|185.199.108.133|:443... connected.\n",
            "HTTP request sent, awaiting response... 200 OK\n",
            "Length: 14847 (14K) [text/plain]\n",
            "Saving to: ‘filtered_sales_cor.csv.1’\n",
            "\n",
            "filtered_sales_cor. 100%[===================>]  14.50K  --.-KB/s    in 0s      \n",
            "\n",
            "2025-03-03 15:05:43 (52.2 MB/s) - ‘filtered_sales_cor.csv.1’ saved [14847/14847]\n",
            "\n"
          ]
        }
      ]
    },
    {
      "cell_type": "code",
      "source": [
        "missing_records = correct_answer.merge(user_answer, on='id', how='left', indicator=True)\n",
        "missing_records = missing_records[missing_records['_merge'] == 'left_only'].drop(columns=['_merge'])"
      ],
      "metadata": {
        "id": "oVB3H0P4ggjs"
      },
      "execution_count": 65,
      "outputs": []
    },
    {
      "cell_type": "code",
      "source": [
        "missing_records"
      ],
      "metadata": {
        "colab": {
          "base_uri": "https://localhost:8080/",
          "height": 269
        },
        "id": "UbijSyRJiH7G",
        "outputId": "72cc5235-b7db-4e08-d834-86dd07bc3be2"
      },
      "execution_count": 66,
      "outputs": [
        {
          "output_type": "execute_result",
          "data": {
            "text/plain": [
              "      id      date_x  amount_x  product_x date_y  amount_y product_y\n",
              "246  539  2023-06-30    782.12  Product 9    NaN       NaN       NaN\n",
              "258  557  2023-01-01    807.89  Product 3    NaN       NaN       NaN\n",
              "295  631  2023-06-30    472.59  Product 2    NaN       NaN       NaN\n",
              "326  704  2023-06-30    109.92  Product 3    NaN       NaN       NaN\n",
              "372  813  2023-06-30    755.25  Product 6    NaN       NaN       NaN\n",
              "374  816  2023-06-30    725.09  Product 4    NaN       NaN       NaN\n",
              "408  890  2023-06-30    879.82  Product 4    NaN       NaN       NaN"
            ],
            "text/html": [
              "\n",
              "  <div id=\"df-6d925f3c-b193-4e27-ab32-81a11b311b3a\" class=\"colab-df-container\">\n",
              "    <div>\n",
              "<style scoped>\n",
              "    .dataframe tbody tr th:only-of-type {\n",
              "        vertical-align: middle;\n",
              "    }\n",
              "\n",
              "    .dataframe tbody tr th {\n",
              "        vertical-align: top;\n",
              "    }\n",
              "\n",
              "    .dataframe thead th {\n",
              "        text-align: right;\n",
              "    }\n",
              "</style>\n",
              "<table border=\"1\" class=\"dataframe\">\n",
              "  <thead>\n",
              "    <tr style=\"text-align: right;\">\n",
              "      <th></th>\n",
              "      <th>id</th>\n",
              "      <th>date_x</th>\n",
              "      <th>amount_x</th>\n",
              "      <th>product_x</th>\n",
              "      <th>date_y</th>\n",
              "      <th>amount_y</th>\n",
              "      <th>product_y</th>\n",
              "    </tr>\n",
              "  </thead>\n",
              "  <tbody>\n",
              "    <tr>\n",
              "      <th>246</th>\n",
              "      <td>539</td>\n",
              "      <td>2023-06-30</td>\n",
              "      <td>782.12</td>\n",
              "      <td>Product 9</td>\n",
              "      <td>NaN</td>\n",
              "      <td>NaN</td>\n",
              "      <td>NaN</td>\n",
              "    </tr>\n",
              "    <tr>\n",
              "      <th>258</th>\n",
              "      <td>557</td>\n",
              "      <td>2023-01-01</td>\n",
              "      <td>807.89</td>\n",
              "      <td>Product 3</td>\n",
              "      <td>NaN</td>\n",
              "      <td>NaN</td>\n",
              "      <td>NaN</td>\n",
              "    </tr>\n",
              "    <tr>\n",
              "      <th>295</th>\n",
              "      <td>631</td>\n",
              "      <td>2023-06-30</td>\n",
              "      <td>472.59</td>\n",
              "      <td>Product 2</td>\n",
              "      <td>NaN</td>\n",
              "      <td>NaN</td>\n",
              "      <td>NaN</td>\n",
              "    </tr>\n",
              "    <tr>\n",
              "      <th>326</th>\n",
              "      <td>704</td>\n",
              "      <td>2023-06-30</td>\n",
              "      <td>109.92</td>\n",
              "      <td>Product 3</td>\n",
              "      <td>NaN</td>\n",
              "      <td>NaN</td>\n",
              "      <td>NaN</td>\n",
              "    </tr>\n",
              "    <tr>\n",
              "      <th>372</th>\n",
              "      <td>813</td>\n",
              "      <td>2023-06-30</td>\n",
              "      <td>755.25</td>\n",
              "      <td>Product 6</td>\n",
              "      <td>NaN</td>\n",
              "      <td>NaN</td>\n",
              "      <td>NaN</td>\n",
              "    </tr>\n",
              "    <tr>\n",
              "      <th>374</th>\n",
              "      <td>816</td>\n",
              "      <td>2023-06-30</td>\n",
              "      <td>725.09</td>\n",
              "      <td>Product 4</td>\n",
              "      <td>NaN</td>\n",
              "      <td>NaN</td>\n",
              "      <td>NaN</td>\n",
              "    </tr>\n",
              "    <tr>\n",
              "      <th>408</th>\n",
              "      <td>890</td>\n",
              "      <td>2023-06-30</td>\n",
              "      <td>879.82</td>\n",
              "      <td>Product 4</td>\n",
              "      <td>NaN</td>\n",
              "      <td>NaN</td>\n",
              "      <td>NaN</td>\n",
              "    </tr>\n",
              "  </tbody>\n",
              "</table>\n",
              "</div>\n",
              "    <div class=\"colab-df-buttons\">\n",
              "\n",
              "  <div class=\"colab-df-container\">\n",
              "    <button class=\"colab-df-convert\" onclick=\"convertToInteractive('df-6d925f3c-b193-4e27-ab32-81a11b311b3a')\"\n",
              "            title=\"Convert this dataframe to an interactive table.\"\n",
              "            style=\"display:none;\">\n",
              "\n",
              "  <svg xmlns=\"http://www.w3.org/2000/svg\" height=\"24px\" viewBox=\"0 -960 960 960\">\n",
              "    <path d=\"M120-120v-720h720v720H120Zm60-500h600v-160H180v160Zm220 220h160v-160H400v160Zm0 220h160v-160H400v160ZM180-400h160v-160H180v160Zm440 0h160v-160H620v160ZM180-180h160v-160H180v160Zm440 0h160v-160H620v160Z\"/>\n",
              "  </svg>\n",
              "    </button>\n",
              "\n",
              "  <style>\n",
              "    .colab-df-container {\n",
              "      display:flex;\n",
              "      gap: 12px;\n",
              "    }\n",
              "\n",
              "    .colab-df-convert {\n",
              "      background-color: #E8F0FE;\n",
              "      border: none;\n",
              "      border-radius: 50%;\n",
              "      cursor: pointer;\n",
              "      display: none;\n",
              "      fill: #1967D2;\n",
              "      height: 32px;\n",
              "      padding: 0 0 0 0;\n",
              "      width: 32px;\n",
              "    }\n",
              "\n",
              "    .colab-df-convert:hover {\n",
              "      background-color: #E2EBFA;\n",
              "      box-shadow: 0px 1px 2px rgba(60, 64, 67, 0.3), 0px 1px 3px 1px rgba(60, 64, 67, 0.15);\n",
              "      fill: #174EA6;\n",
              "    }\n",
              "\n",
              "    .colab-df-buttons div {\n",
              "      margin-bottom: 4px;\n",
              "    }\n",
              "\n",
              "    [theme=dark] .colab-df-convert {\n",
              "      background-color: #3B4455;\n",
              "      fill: #D2E3FC;\n",
              "    }\n",
              "\n",
              "    [theme=dark] .colab-df-convert:hover {\n",
              "      background-color: #434B5C;\n",
              "      box-shadow: 0px 1px 3px 1px rgba(0, 0, 0, 0.15);\n",
              "      filter: drop-shadow(0px 1px 2px rgba(0, 0, 0, 0.3));\n",
              "      fill: #FFFFFF;\n",
              "    }\n",
              "  </style>\n",
              "\n",
              "    <script>\n",
              "      const buttonEl =\n",
              "        document.querySelector('#df-6d925f3c-b193-4e27-ab32-81a11b311b3a button.colab-df-convert');\n",
              "      buttonEl.style.display =\n",
              "        google.colab.kernel.accessAllowed ? 'block' : 'none';\n",
              "\n",
              "      async function convertToInteractive(key) {\n",
              "        const element = document.querySelector('#df-6d925f3c-b193-4e27-ab32-81a11b311b3a');\n",
              "        const dataTable =\n",
              "          await google.colab.kernel.invokeFunction('convertToInteractive',\n",
              "                                                    [key], {});\n",
              "        if (!dataTable) return;\n",
              "\n",
              "        const docLinkHtml = 'Like what you see? Visit the ' +\n",
              "          '<a target=\"_blank\" href=https://colab.research.google.com/notebooks/data_table.ipynb>data table notebook</a>'\n",
              "          + ' to learn more about interactive tables.';\n",
              "        element.innerHTML = '';\n",
              "        dataTable['output_type'] = 'display_data';\n",
              "        await google.colab.output.renderOutput(dataTable, element);\n",
              "        const docLink = document.createElement('div');\n",
              "        docLink.innerHTML = docLinkHtml;\n",
              "        element.appendChild(docLink);\n",
              "      }\n",
              "    </script>\n",
              "  </div>\n",
              "\n",
              "\n",
              "<div id=\"df-01967f28-c31e-4395-b907-6edb7a4e0afc\">\n",
              "  <button class=\"colab-df-quickchart\" onclick=\"quickchart('df-01967f28-c31e-4395-b907-6edb7a4e0afc')\"\n",
              "            title=\"Suggest charts\"\n",
              "            style=\"display:none;\">\n",
              "\n",
              "<svg xmlns=\"http://www.w3.org/2000/svg\" height=\"24px\"viewBox=\"0 0 24 24\"\n",
              "     width=\"24px\">\n",
              "    <g>\n",
              "        <path d=\"M19 3H5c-1.1 0-2 .9-2 2v14c0 1.1.9 2 2 2h14c1.1 0 2-.9 2-2V5c0-1.1-.9-2-2-2zM9 17H7v-7h2v7zm4 0h-2V7h2v10zm4 0h-2v-4h2v4z\"/>\n",
              "    </g>\n",
              "</svg>\n",
              "  </button>\n",
              "\n",
              "<style>\n",
              "  .colab-df-quickchart {\n",
              "      --bg-color: #E8F0FE;\n",
              "      --fill-color: #1967D2;\n",
              "      --hover-bg-color: #E2EBFA;\n",
              "      --hover-fill-color: #174EA6;\n",
              "      --disabled-fill-color: #AAA;\n",
              "      --disabled-bg-color: #DDD;\n",
              "  }\n",
              "\n",
              "  [theme=dark] .colab-df-quickchart {\n",
              "      --bg-color: #3B4455;\n",
              "      --fill-color: #D2E3FC;\n",
              "      --hover-bg-color: #434B5C;\n",
              "      --hover-fill-color: #FFFFFF;\n",
              "      --disabled-bg-color: #3B4455;\n",
              "      --disabled-fill-color: #666;\n",
              "  }\n",
              "\n",
              "  .colab-df-quickchart {\n",
              "    background-color: var(--bg-color);\n",
              "    border: none;\n",
              "    border-radius: 50%;\n",
              "    cursor: pointer;\n",
              "    display: none;\n",
              "    fill: var(--fill-color);\n",
              "    height: 32px;\n",
              "    padding: 0;\n",
              "    width: 32px;\n",
              "  }\n",
              "\n",
              "  .colab-df-quickchart:hover {\n",
              "    background-color: var(--hover-bg-color);\n",
              "    box-shadow: 0 1px 2px rgba(60, 64, 67, 0.3), 0 1px 3px 1px rgba(60, 64, 67, 0.15);\n",
              "    fill: var(--button-hover-fill-color);\n",
              "  }\n",
              "\n",
              "  .colab-df-quickchart-complete:disabled,\n",
              "  .colab-df-quickchart-complete:disabled:hover {\n",
              "    background-color: var(--disabled-bg-color);\n",
              "    fill: var(--disabled-fill-color);\n",
              "    box-shadow: none;\n",
              "  }\n",
              "\n",
              "  .colab-df-spinner {\n",
              "    border: 2px solid var(--fill-color);\n",
              "    border-color: transparent;\n",
              "    border-bottom-color: var(--fill-color);\n",
              "    animation:\n",
              "      spin 1s steps(1) infinite;\n",
              "  }\n",
              "\n",
              "  @keyframes spin {\n",
              "    0% {\n",
              "      border-color: transparent;\n",
              "      border-bottom-color: var(--fill-color);\n",
              "      border-left-color: var(--fill-color);\n",
              "    }\n",
              "    20% {\n",
              "      border-color: transparent;\n",
              "      border-left-color: var(--fill-color);\n",
              "      border-top-color: var(--fill-color);\n",
              "    }\n",
              "    30% {\n",
              "      border-color: transparent;\n",
              "      border-left-color: var(--fill-color);\n",
              "      border-top-color: var(--fill-color);\n",
              "      border-right-color: var(--fill-color);\n",
              "    }\n",
              "    40% {\n",
              "      border-color: transparent;\n",
              "      border-right-color: var(--fill-color);\n",
              "      border-top-color: var(--fill-color);\n",
              "    }\n",
              "    60% {\n",
              "      border-color: transparent;\n",
              "      border-right-color: var(--fill-color);\n",
              "    }\n",
              "    80% {\n",
              "      border-color: transparent;\n",
              "      border-right-color: var(--fill-color);\n",
              "      border-bottom-color: var(--fill-color);\n",
              "    }\n",
              "    90% {\n",
              "      border-color: transparent;\n",
              "      border-bottom-color: var(--fill-color);\n",
              "    }\n",
              "  }\n",
              "</style>\n",
              "\n",
              "  <script>\n",
              "    async function quickchart(key) {\n",
              "      const quickchartButtonEl =\n",
              "        document.querySelector('#' + key + ' button');\n",
              "      quickchartButtonEl.disabled = true;  // To prevent multiple clicks.\n",
              "      quickchartButtonEl.classList.add('colab-df-spinner');\n",
              "      try {\n",
              "        const charts = await google.colab.kernel.invokeFunction(\n",
              "            'suggestCharts', [key], {});\n",
              "      } catch (error) {\n",
              "        console.error('Error during call to suggestCharts:', error);\n",
              "      }\n",
              "      quickchartButtonEl.classList.remove('colab-df-spinner');\n",
              "      quickchartButtonEl.classList.add('colab-df-quickchart-complete');\n",
              "    }\n",
              "    (() => {\n",
              "      let quickchartButtonEl =\n",
              "        document.querySelector('#df-01967f28-c31e-4395-b907-6edb7a4e0afc button');\n",
              "      quickchartButtonEl.style.display =\n",
              "        google.colab.kernel.accessAllowed ? 'block' : 'none';\n",
              "    })();\n",
              "  </script>\n",
              "</div>\n",
              "    </div>\n",
              "  </div>\n"
            ],
            "application/vnd.google.colaboratory.intrinsic+json": {
              "type": "dataframe",
              "variable_name": "missing_records",
              "repr_error": "0"
            }
          },
          "metadata": {},
          "execution_count": 66
        }
      ]
    },
    {
      "cell_type": "code",
      "source": [
        "#@title ✏️ Проверка: чтобы проверить свое решение запустите код в этой ячейке\n",
        "try:\n",
        "  assert (user_answer == correct_answer).all().all(), 'Ответы не совпадают'\n",
        "  assert user_answer.columns.equals(correct_answer.columns), 'Названия столбцов не совпадают'\n",
        "except Exception as err:\n",
        "  raise AssertionError(f'При проверке возникла ошибка {repr(err)}')\n",
        "else:\n",
        "  print('Поздравляем, Вы справились и успешно прошли все проверки!')"
      ],
      "metadata": {
        "colab": {
          "base_uri": "https://localhost:8080/"
        },
        "id": "e2nVbdAn1IjH",
        "outputId": "d73181d4-c11c-439a-f36e-8b448a43f2cc"
      },
      "execution_count": 76,
      "outputs": [
        {
          "output_type": "stream",
          "name": "stdout",
          "text": [
            "Поздравляем, Вы справились и успешно прошли все проверки!\n"
          ]
        }
      ]
    }
  ]
}