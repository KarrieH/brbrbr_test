{
  "nbformat": 4,
  "nbformat_minor": 0,
  "metadata": {
    "colab": {
      "provenance": []
    },
    "kernelspec": {
      "name": "python3",
      "display_name": "Python 3"
    },
    "language_info": {
      "name": "python"
    }
  },
  "cells": [
    {
      "cell_type": "markdown",
      "source": [
        "## **2 кейс**\n",
        "\n",
        "**Трек задач**"
      ],
      "metadata": {
        "id": "XUqCUBW5fUST"
      }
    },
    {
      "cell_type": "markdown",
      "source": [
        "### **Решения**"
      ],
      "metadata": {
        "id": "CxmnD3GvffQ4"
      }
    },
    {
      "cell_type": "markdown",
      "source": [
        "#### **Задача 1**\n",
        "\n",
        "Для начала определите классы `Task` и `Project`."
      ],
      "metadata": {
        "id": "5bdLXu2ksLB7"
      }
    },
    {
      "cell_type": "markdown",
      "source": [
        "**Решение**\n",
        "\n",
        "Напишите свое решение ниже"
      ],
      "metadata": {
        "id": "qUL4LtIUnJge"
      }
    },
    {
      "cell_type": "code",
      "source": [
        "class Task:\n",
        "  def __init__(self, task_id, name, description, status, duration):\n",
        "    self._task_id = task_id\n",
        "    self._name = name\n",
        "    self._description = description\n",
        "    self._status = status\n",
        "    self._duration = duration\n",
        "\n",
        "  def get_task_id(self):\n",
        "    return  self._task_id\n",
        "\n",
        "  def get_name(self):\n",
        "    return  self._name\n",
        "\n",
        "  def get_description(self):\n",
        "    return  self._description\n",
        "\n",
        "  def get_status(self):\n",
        "    return  self._status\n",
        "\n",
        "  def get_duration(self):\n",
        "    return  self._duration\n"
      ],
      "metadata": {
        "id": "Ia39hhmZbNRW"
      },
      "execution_count": 48,
      "outputs": []
    },
    {
      "cell_type": "code",
      "source": [
        "class Project:\n",
        "  def __init__(self):\n",
        "    self.array_of_tasks = []\n",
        "\n",
        "  def add_task(self, new_task):\n",
        "    self.array_of_tasks.append(new_task)\n",
        "\n",
        "  def remove_task(self, task_id):\n",
        "    self.array_of_tasks = [element for element in self.array_of_tasks if element._task_id != task_id]\n",
        "\n",
        "  def get_all_tasks(self):\n",
        "    return self.array_of_tasks\n",
        "\n",
        "  def __iter__(self):\n",
        "    return iter(self.array_of_tasks)\n",
        "\n",
        "\n"
      ],
      "metadata": {
        "id": "i-cVKsFc-4fS"
      },
      "execution_count": 49,
      "outputs": []
    },
    {
      "cell_type": "code",
      "source": [
        "task1 = Task(1, \"Задача 1\", \"Описание\", \"Выполняется\", 14)\n",
        "task2 = Task(2, \"Задача 2\", \"Описание\", \"Выполняется\", 8)\n",
        "task3 = Task(3, \"Задача 3\", \"Описание\", \"Завершена\", 3)\n",
        "task4 = Task(4, \"Задача 4\", \"Описание: срочно\", \"Выполняется\", 7)\n",
        "\n"
      ],
      "metadata": {
        "id": "zpfYvJbtSNS2"
      },
      "execution_count": 50,
      "outputs": []
    },
    {
      "cell_type": "code",
      "source": [
        "project = Project()\n",
        "project.add_task(task1)\n",
        "project.add_task(task2)\n",
        "project.add_task(task3)\n",
        "project.add_task(task4)"
      ],
      "metadata": {
        "id": "gNOD56SVSSXN"
      },
      "execution_count": 51,
      "outputs": []
    },
    {
      "cell_type": "code",
      "source": [
        "project.get_all_tasks()"
      ],
      "metadata": {
        "colab": {
          "base_uri": "https://localhost:8080/"
        },
        "id": "0sfO8-57UsEE",
        "outputId": "cbed1065-7f49-479c-ebef-a2059deb0f1e"
      },
      "execution_count": 52,
      "outputs": [
        {
          "output_type": "execute_result",
          "data": {
            "text/plain": [
              "[<__main__.Task at 0x7ac22dbf30d0>,\n",
              " <__main__.Task at 0x7ac22db17a50>,\n",
              " <__main__.Task at 0x7ac22db9ff10>,\n",
              " <__main__.Task at 0x7ac22db9c090>]"
            ]
          },
          "metadata": {},
          "execution_count": 52
        }
      ]
    },
    {
      "cell_type": "code",
      "source": [
        "project.remove_task(3)"
      ],
      "metadata": {
        "id": "QhZN7e17SSZp"
      },
      "execution_count": 53,
      "outputs": []
    },
    {
      "cell_type": "code",
      "source": [
        "project.get_all_tasks()"
      ],
      "metadata": {
        "colab": {
          "base_uri": "https://localhost:8080/"
        },
        "id": "xPAlmO6iUvl1",
        "outputId": "f3cc90a9-0e42-44c9-95f8-b9f2693740f6"
      },
      "execution_count": 54,
      "outputs": [
        {
          "output_type": "execute_result",
          "data": {
            "text/plain": [
              "[<__main__.Task at 0x7ac22dbf30d0>,\n",
              " <__main__.Task at 0x7ac22db17a50>,\n",
              " <__main__.Task at 0x7ac22db9c090>]"
            ]
          },
          "metadata": {},
          "execution_count": 54
        }
      ]
    },
    {
      "cell_type": "code",
      "source": [
        "for i in project:\n",
        "  print(i._task_id)"
      ],
      "metadata": {
        "colab": {
          "base_uri": "https://localhost:8080/"
        },
        "id": "L4cZyFWWUvoP",
        "outputId": "861fe889-d39c-46c1-d29d-b1d43a18c70c"
      },
      "execution_count": 55,
      "outputs": [
        {
          "output_type": "stream",
          "name": "stdout",
          "text": [
            "1\n",
            "2\n",
            "4\n"
          ]
        }
      ]
    },
    {
      "cell_type": "code",
      "source": [
        "#@title ✏️ Проверка: чтобы проверить свое решение запустите код в этой ячейке\n",
        "task1 = Task(1, \"Задача 1\", \"Описание\", \"Выполняется\", 14)\n",
        "task2 = Task(2, \"Задача 2\", \"Описание\", \"Выполняется\", 8)\n",
        "task3 = Task(3, \"Задача 3\", \"Описание\", \"Завершена\", 3)\n",
        "task4 = Task(4, \"Задача 4\", \"Описание: срочно\", \"Выполняется\", 7)\n",
        "\n",
        "project = Project()\n",
        "project.add_task(task1)\n",
        "project.add_task(task2)\n",
        "project.add_task(task3)\n",
        "project.add_task(task4)\n",
        "\n",
        "res = []\n",
        "for task in project:\n",
        "  name = task.get_name()\n",
        "  description = task.get_description()\n",
        "  status = task.get_status()\n",
        "  res.append((name, description, status))\n",
        "\n",
        "try:\n",
        "    assert res == [('Задача 1', 'Описание', 'Выполняется'),\n",
        "                   ('Задача 2', 'Описание', 'Выполняется'),\n",
        "                   ('Задача 3', 'Описание', 'Завершена'),\n",
        "                   ('Задача 4', 'Описание: срочно', 'Выполняется')]\n",
        "except AssertionError:\n",
        "    print('Ответы не совпадают')\n",
        "else:\n",
        "    print('Поздравляем, Вы справились!')"
      ],
      "metadata": {
        "id": "LkqzVw9skKEC",
        "colab": {
          "base_uri": "https://localhost:8080/"
        },
        "outputId": "2fd95d7a-6a9e-448c-eb5c-7713089afea5"
      },
      "execution_count": 56,
      "outputs": [
        {
          "output_type": "stream",
          "name": "stdout",
          "text": [
            "Поздравляем, Вы справились!\n"
          ]
        }
      ]
    },
    {
      "cell_type": "markdown",
      "source": [
        "#### **Задача 2**\n",
        "\n",
        "Определите класс `Analysis`."
      ],
      "metadata": {
        "id": "QLNMvvhXoIdV"
      }
    },
    {
      "cell_type": "markdown",
      "source": [
        "**Решение**\n",
        "\n",
        "Напишите свое решение ниже"
      ],
      "metadata": {
        "id": "LThhpSINoMHN"
      }
    },
    {
      "cell_type": "code",
      "source": [
        "class Analysis:\n",
        "\n",
        "  @staticmethod\n",
        "  def count_tasks(project): # подсчет общего количества задач в проекте\n",
        "    return len(project.get_all_tasks())\n",
        "\n",
        "\n",
        "  @staticmethod\n",
        "  def count_tasks_by_status(project, status): # подсчет количества задач в определенном статусе\n",
        "    counter = 0\n",
        "    for element in project.get_all_tasks():\n",
        "      if element.get_status() == status:\n",
        "        counter += 1\n",
        "    return counter\n",
        "\n",
        "\n",
        "  @staticmethod\n",
        "  def find_longest_task(project): # поиск задачи с самым длительным временем выполнения\n",
        "    result = sorted(project.get_all_tasks(), key = lambda x: x.get_duration())\n",
        "\n",
        "    return result[-1]"
      ],
      "metadata": {
        "id": "9s8JBMlboJuf"
      },
      "execution_count": 62,
      "outputs": []
    },
    {
      "cell_type": "code",
      "source": [
        "Analysis.find_longest_task(project).get_name()"
      ],
      "metadata": {
        "colab": {
          "base_uri": "https://localhost:8080/",
          "height": 35
        },
        "id": "H7NGNfBWbVCp",
        "outputId": "5787a4db-57cf-4997-fc55-3d1ac321c380"
      },
      "execution_count": 64,
      "outputs": [
        {
          "output_type": "execute_result",
          "data": {
            "text/plain": [
              "'Задача 1'"
            ],
            "application/vnd.google.colaboratory.intrinsic+json": {
              "type": "string"
            }
          },
          "metadata": {},
          "execution_count": 64
        }
      ]
    },
    {
      "cell_type": "code",
      "source": [
        "#@title ✏️ Проверка: чтобы проверить свое решение запустите код в этой ячейке\n",
        "res2 = Analysis.count_tasks(project)\n",
        "res3 = Analysis.count_tasks_by_status(project, \"Выполняется\")\n",
        "res4 = Analysis.find_longest_task(project).get_name()\n",
        "\n",
        "try:\n",
        "    assert res2 == 4\n",
        "    assert res3 == 3\n",
        "    assert res4 == 'Задача 1'\n",
        "except AssertionError:\n",
        "    print('Ответы не совпадают')\n",
        "else:\n",
        "    print('Поздравляем, Вы справились!')"
      ],
      "metadata": {
        "colab": {
          "base_uri": "https://localhost:8080/"
        },
        "id": "a36bM9j9tD7l",
        "outputId": "d3ead113-1264-446a-ec80-9899494db534"
      },
      "execution_count": 63,
      "outputs": [
        {
          "output_type": "stream",
          "name": "stdout",
          "text": [
            "Поздравляем, Вы справились!\n"
          ]
        }
      ]
    },
    {
      "cell_type": "markdown",
      "source": [
        "#### **Задача 3**\n",
        "\n",
        "Напишите `EnhancedAnalysis`"
      ],
      "metadata": {
        "id": "AwB-HtPLtjyl"
      }
    },
    {
      "cell_type": "markdown",
      "source": [
        "**Решение**\n",
        "\n",
        "Напишите свое решение ниже"
      ],
      "metadata": {
        "id": "GOTB--hmt2xw"
      }
    },
    {
      "cell_type": "code",
      "source": [
        "class EnhancedAnalysis(Analysis):\n",
        "  def find_tasks_with_keywords(project, keywords):\n",
        "    res = []\n",
        "    for word in keywords:                                                                       # поиск задач, содержащих определенные ключевые слова в названии или описании\n",
        "      for task in project.get_all_tasks():\n",
        "         if word in task.get_name() or word in task.get_description():\n",
        "          res.append(task) # Где keywords это слова, которые мы ищем либо в имени, либо в описании\n",
        "    return  res\n"
      ],
      "metadata": {
        "id": "fz7nRb_ntKMv"
      },
      "execution_count": 67,
      "outputs": []
    },
    {
      "cell_type": "code",
      "source": [
        "#@title ✏️ Проверка: чтобы проверить свое решение запустите код в этой ячейке\n",
        "keywords = [\"срочно\"]\n",
        "found_tasks = EnhancedAnalysis.find_tasks_with_keywords(project, keywords)\n",
        "res5 = []\n",
        "for task in found_tasks:\n",
        "  res5.append(task.get_name())\n",
        "\n",
        "try:\n",
        "    assert res5 == ['Задача 4']\n",
        "except AssertionError:\n",
        "    print('Ответы не совпадают')\n",
        "else:\n",
        "    print('Поздравляем, Вы справились!')"
      ],
      "metadata": {
        "colab": {
          "base_uri": "https://localhost:8080/"
        },
        "id": "KzV-hUKcvxb2",
        "outputId": "947bb992-36e2-42ae-a446-95cad1cb9e0d"
      },
      "execution_count": 68,
      "outputs": [
        {
          "output_type": "stream",
          "name": "stdout",
          "text": [
            "Поздравляем, Вы справились!\n"
          ]
        }
      ]
    }
  ]
}